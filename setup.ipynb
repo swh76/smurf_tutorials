{
 "cells": [
  {
   "cell_type": "markdown",
   "metadata": {},
   "source": [
    "# Setup"
   ]
  },
  {
   "cell_type": "markdown",
   "metadata": {},
   "source": [
    "## Turning the system off"
   ]
  },
  {
   "cell_type": "markdown",
   "metadata": {},
   "source": [
    "To turn a running system off, follow these steps; first disable all boards in the crate.  To ssh into the crate, you must know its local network IP.  The crates will be marked with their IP (it's programmed through the crate's shelf manager).  In the Stanford laboratory setup, the server and crate shelf manager communicate through a commercial network switch.  It's the shelf manager you talk to to control the crate.  You will need to run these commands in a terminal on the server."
   ]
  },
  {
   "cell_type": "raw",
   "metadata": {},
   "source": [
    "ssh root@10.0.1.4\n",
    "clia deactivate board 3\n",
    "clia deactivate board 5\n",
    "clia deactivate board 6\n",
    "exit"
   ]
  },
  {
   "cell_type": "markdown",
   "metadata": {},
   "source": [
    "Here the numbers are the slots of the particular blades we're deactivating (marked on the front of the crate).\n",
    "\n",
    "As part of the ATCA standard, the SMuRF boards should be \"hot-swappable,\" meaning you should be able to pull the power on the crate or remove cards from the crate without explicitly disabling the boards, but it's not best practice.  After deactivating the boards, you'll see red and/or blue lights on the front of the blades instead of the usual green.\n",
    "\n",
    "If you happen to be using one of the first generation SMuRF FPGA carrier boards (C00-XX, as labeled on the front of the carrier), be aware that due to a hardware issue that has been fixed in the carrier boards that will be provided to the SO test institutions the RTM voltages do not get turned off when the carrier is deactivated.  So even though the blade looks off, the drain voltages for the RF amplifiers in the cryostat are still being provided (since they come directly off of the RTM).  For these blades, after deactivating the carrier, disconnect the cable from the RTM to the cryostat card.  Do not disconnect the cable from the cryostat card to the fridge connector - that could damage the amplifiers or MUX chips. \n",
    "\n",
    "After deactivating the blades in the crate, the crate can be powered down by pulling the AC power cord on the back of the crate."
   ]
  },
  {
   "cell_type": "markdown",
   "metadata": {},
   "source": [
    "## Air blockers"
   ]
  },
  {
   "cell_type": "markdown",
   "metadata": {},
   "source": [
    "The SMuRF blades dissipate quite a bit of power (est. 250W per carrier blade!).  It's important to take steps to ensure adequate air flow through the crate so that the board temperatures can be kept well regulated.  Fans on the sides of the crates keep air flowing through the crate.  To ensure good air flow, air blockers need to be installed in any unused slots in the crate.  There are air blockers to fill carrier slots:"
   ]
  },
  {
   "cell_type": "markdown",
   "metadata": {},
   "source": [
    "AMC slots:"
   ]
  },
  {
   "cell_type": "markdown",
   "metadata": {},
   "source": [
    "and RTMs:"
   ]
  },
  {
   "cell_type": "markdown",
   "metadata": {},
   "source": [
    "## Making good RF connections and cable management"
   ]
  },
  {
   "cell_type": "markdown",
   "metadata": {},
   "source": [
    "## Turning system on"
   ]
  },
  {
   "cell_type": "markdown",
   "metadata": {},
   "source": [
    "Starting with crate powered off.  First plug in crate AC power, labeled \"AC-IN 1\" on the back of the crate.  The SMuRF and network blades should come up on their own (i.e. powering up the crate is like activating the card through the shelf manager).  One common pitfall is that the small black lever used to pull the AMC assemblies must be pushed in for the AMC to activate in the carrier.  Here's what it looks like when that lever is out (note the blue light):"
   ]
  },
  {
   "cell_type": "markdown",
   "metadata": {},
   "source": [
    "Vs when that lever is pushed in (note the green light):"
   ]
  },
  {
   "cell_type": "markdown",
   "metadata": {},
   "source": [
    "After the system is turned on, you should see only green lights on the RTMs, carriers, and AMCs.  The hardware is on!  Now we need to explicitly activate all the blades.  SSH into the crate's shelf manager and activate the blades in the crate."
   ]
  },
  {
   "cell_type": "markdown",
   "metadata": {},
   "source": [
    "Once the crate is on, you can query the status of a blade in the crate like this (the ! at the beginning of this command means it's a shell command; pressing ctrl+enter will execute the command as if you were at a terminal)"
   ]
  },
  {
   "cell_type": "code",
   "execution_count": 16,
   "metadata": {},
   "outputs": [
    {
     "name": "stdout",
     "output_type": "stream",
     "text": [
      "================================================================================\n",
      "| BSI: 10.0.1.4/2/CEN (10.0.1.4/2/4)                                           |\n",
      "BSI Ld  State:  3          (READY)\n",
      "BSI Ld Status: 0x00000000  (SUCCESS)\n",
      "  BSI Version: 0x0103 = 1.3\n",
      "        MAC 0: 08:00:56:00:4c:55\n",
      "        MAC 1: 08:00:56:00:4c:56\n",
      "        MAC 2: 08:00:56:00:4c:57\n",
      "        MAC 3: 08:00:56:00:4c:58\n",
      "   DDR status: 0x0001: MemErr: F, MemRdy: T, Eth Link: Down\n",
      "  Enet uptime:          0 seconds\n",
      "  FPGA uptime:         35 seconds\n",
      " FPGA version: 0x00000001\n",
      " BL start adx: 0x04000000\n",
      "     Crate ID: 0x0003\n",
      "    ATCA slot: 2\n",
      "   AMC 0 info: Aux: 01 Ser: 7600000116288e70 Type: 0a Ver: C02 BOM: 00 Tag: 05\n",
      "     GIT hash: 0c893cd33d61db4296f7ffe87ecddf0ddad76f4e\n",
      "FW bld string: 'MicrowaveMuxRtmEthGen2: Vivado v2018.2, tid-pc93099 (x86_64), Built Thu Jan 10 11:38:09 PST 2019 by jvasquez'\n",
      "--------------------------------------------------------------------------------\n"
     ]
    }
   ],
   "source": [
    "!amcc_dump_bsi --all 10.0.1.4/2"
   ]
  },
  {
   "cell_type": "markdown",
   "metadata": {},
   "source": [
    "This is telling you a lot of information about the blade in the crate with IP 10.0.1.4 (marked on the front of the crate), slot 5.  See the FW bld string ; "
   ]
  },
  {
   "cell_type": "markdown",
   "metadata": {},
   "source": [
    "## Starting the timing and soft IOC services"
   ]
  },
  {
   "cell_type": "code",
   "execution_count": null,
   "metadata": {},
   "outputs": [],
   "source": []
  },
  {
   "cell_type": "markdown",
   "metadata": {},
   "source": [
    "## Starting the transmitter and EPICs server"
   ]
  },
  {
   "cell_type": "markdown",
   "metadata": {},
   "source": [
    "Navigate to the place where the script lives which starts the transmitter and EPICs server and start it:"
   ]
  }
 ],
 "metadata": {
  "kernelspec": {
   "display_name": "Python 3",
   "language": "python",
   "name": "python3"
  },
  "language_info": {
   "codemirror_mode": {
    "name": "ipython",
    "version": 3
   },
   "file_extension": ".py",
   "mimetype": "text/x-python",
   "name": "python",
   "nbconvert_exporter": "python",
   "pygments_lexer": "ipython3",
   "version": "3.6.1"
  }
 },
 "nbformat": 4,
 "nbformat_minor": 2
}
