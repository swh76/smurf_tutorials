{
 "cells": [
  {
   "cell_type": "markdown",
   "metadata": {},
   "source": [
    "# Setup"
   ]
  },
  {
   "cell_type": "markdown",
   "metadata": {},
   "source": [
    "## Turning the system off"
   ]
  },
  {
   "cell_type": "markdown",
   "metadata": {},
   "source": [
    "To turn a running system off, follow these steps; first disable all boards in the crate.  To ssh into the crate, you must know its local network IP.  The crates will be marked with their IP (it's programmed through the crate's shelf manager).  In the Stanford laboratory setup, the server and crate shelf manager communicate through a commercial network switch.  It's the shelf manager you talk to to control the crate.  You will need to run these commands in a terminal on the server."
   ]
  },
  {
   "cell_type": "raw",
   "metadata": {},
   "source": [
    "ssh root@10.0.1.4\n",
    "clia deactivate board 3\n",
    "clia deactivate board 5\n",
    "clia deactivate board 6\n",
    "exit"
   ]
  },
  {
   "cell_type": "markdown",
   "metadata": {},
   "source": [
    "Here the numbers are the slots of the particular blades we're deactivating (marked on the front of the crate).\n",
    "\n",
    "As part of the ATCA standard, the SMuRF boards should be \"hot-swappable,\" meaning you should be able to pull the power on the crate or remove cards from the crate without explicitly disabling the boards, but it's not best practice.  After deactivating the boards, you'll see red and/or blue lights on the front of the blades instead of the usual green.\n",
    "\n",
    "If you happen to be using one of the first generation SMuRF FPGA carrier boards (C00-XX, as labeled on the front of the carrier), be aware that due to a hardware issue that has been fixed in the carrier boards that will be provided to the SO test institutions the RTM voltages do not get turned off when the carrier is deactivated.  So even though the blade looks off, the drain voltages for the RF amplifiers in the cryostat are still being provided (since they come directly off of the RTM).  For these blades, after deactivating the carrier, disconnect the cable from the RTM to the cryostat card.  Do not disconnect the cable from the cryostat card to the fridge connector - that could damage the amplifiers or MUX chips. \n",
    "\n",
    "After deactivating the blades in the crate, the crate can be powered down by pulling the AC power cord on the back of the crate."
   ]
  },
  {
   "cell_type": "markdown",
   "metadata": {},
   "source": [
    "## Air blockers"
   ]
  },
  {
   "cell_type": "markdown",
   "metadata": {},
   "source": [
    "The SMuRF blades dissipate quite a bit of power (est. 250W per carrier blade!).  It's important to take steps to ensure adequate air flow through the crate so that the board temperatures can be kept well regulated.  Fans on the sides of the crates keep air flowing through the crate.  To ensure good air flow, air blockers need to be installed in any unused slots in the crate.  There are air blockers to fill carrier slots:"
   ]
  },
  {
   "cell_type": "markdown",
   "metadata": {},
   "source": [
    "<img style=\"transform: rotate(0deg); width:1000px\" src=\"setup_pics/carrier_air_blocker.JPG\" alt=\"Carrier Air Blocker\" title=\"Carrier Air Blocker\" />"
   ]
  },
  {
   "cell_type": "markdown",
   "metadata": {},
   "source": [
    "AMC slots:\n",
    "<img style=\"transform: rotate(90deg); width:1000px\" src=\"setup_pics/amc_air_blocker.JPG\" alt=\"AMC Air Blocker\" title=\"AMC Air Blocker\" />"
   ]
  },
  {
   "cell_type": "markdown",
   "metadata": {},
   "source": [
    "and RTMs:\n",
    "<img style=\"transform: rotate(0deg); width:1000px\" src=\"setup_pics/rtm_air_blocker.JPG\" alt=\"RTM Air Blocker\" title=\"RTM Air Blocker\" />"
   ]
  },
  {
   "cell_type": "markdown",
   "metadata": {},
   "source": [
    "## Making good RF connections and cable management"
   ]
  },
  {
   "cell_type": "markdown",
   "metadata": {},
   "source": [
    "All RF connections should either be made finger tight, or with an SMA wrench with preset torque.  NEVER TIGHTEN RF CONNECTIONS WITH A regular wrench.  Remember that these are very expensive parts.  Here's a <a href=\"https://www.thorlabs.com/newgrouppage9.cfm?objectgroup_ID=10543\">cheap one I like from Thorlabs</a> if your lab doesn't already have some (the 5 in-lb one is for making connections when you're testing, while the 8 in-lb one is for making final connections once you're happy with your RF chain).  Reduce the temptation to take shortcuts by purchasing more than you need!\n"
   ]
  },
  {
   "cell_type": "markdown",
   "metadata": {},
   "source": [
    "<img style=\"transform: rotate(90deg); width:1000px\" src=\"setup_pics/rf_torque_wrench.JPG\" alt=\"RF Torque Wrench\" title=\"RF Torque Wrench\" />"
   ]
  },
  {
   "cell_type": "markdown",
   "metadata": {},
   "source": [
    "A \"feature\" of the AMCs is that they have very long barrel connectors for the frontpanel RF connections - e.g.\n",
    "<img style=\"transform: rotate(0deg); width:1000px\" src=\"setup_pics/long_barrel_rf_connectors.JPG\" alt=\"SMuRF AMC Long Barrel AMC RF Connectors\" title=\"SMuRF AMC Long Barrel AMC RF Connectors\" />"
   ]
  },
  {
   "cell_type": "markdown",
   "metadata": {},
   "source": [
    "On at least one occasion, Shawn has snapped one of these off when tightening an SMA cable to it.  It's also easy to put a bunch of torque on the connector (big lever arm) if you bump a straight SMA cable connected to one of them, or if you don't support the connector as you fasten or remove an SMA connection.  A trick that helps is to put a right angle SMA adapter on the connector to shorten the lever arm and redirect the force.  It also keeps the cables close to the front of the crate so it's less likely you'll bump them accidentally.  E.g.:"
   ]
  },
  {
   "cell_type": "markdown",
   "metadata": {},
   "source": [
    "<img style=\"transform: rotate(0deg); width:1000px\" src=\"setup_pics/right_angle_rf_connections.JPG\" alt=\"Right Angle RF Connections\" title=\"Right Angle RF Connections\" />"
   ]
  },
  {
   "cell_type": "markdown",
   "metadata": {},
   "source": [
    "<img style=\"transform: rotate(0deg); width:1000px\" src=\"setup_pics/cable_management.JPG\" alt=\"Cable Management\" title=\"Cable Management\" />"
   ]
  },
  {
   "cell_type": "markdown",
   "metadata": {},
   "source": [
    "# Turning system on"
   ]
  },
  {
   "cell_type": "markdown",
   "metadata": {},
   "source": [
    "## Powering the crate up and activating the SMuRF blades"
   ]
  },
  {
   "cell_type": "markdown",
   "metadata": {},
   "source": [
    "Starting with crate powered off.  First plug in crate AC power, labeled \"AC-IN 1\" on the back of the crate.  The SMuRF and network blades should come up on their own (i.e. powering up the crate is like activating the card through the shelf manager).  One common pitfall is that the small black lever used to pull the AMC assemblies must be pushed in for the AMC to activate in the carrier.  Here's what it looks like when that lever is out (note the blue light):"
   ]
  },
  {
   "cell_type": "markdown",
   "metadata": {},
   "source": [
    "<img style=\"transform: rotate(0deg); width:1000px\" src=\"setup_pics/amcs_off.JPG\" alt=\"AMCs Off\" title=\"AMCs Off\" />"
   ]
  },
  {
   "cell_type": "markdown",
   "metadata": {},
   "source": [
    "Vs when that lever is pushed in (note the green light):"
   ]
  },
  {
   "cell_type": "markdown",
   "metadata": {},
   "source": [
    "<img style=\"transform: rotate(0deg); width:1000px\" src=\"setup_pics/amcs_on.JPG\" alt=\"AMCs On\" title=\"AMCs On\" />"
   ]
  },
  {
   "cell_type": "markdown",
   "metadata": {},
   "source": [
    "After the system is turned on, you should see only green lights on the RTMs, carriers, and AMCs.  The hardware is on!    Now we need to explicitly activate all the blades (this might not actually be necessary, but is good practice).  SSH into the crate's shelf manager and activate the blades in the crate.  For example, run these commands in a terminal on the server PC to activate the SMuRF blade in slot 5 for the crate at IP 10.0.1.4;"
   ]
  },
  {
   "cell_type": "raw",
   "metadata": {},
   "source": [
    "ssh root@10.0.1.4\n",
    "clia activate board 5\n",
    "exit"
   ]
  },
  {
   "cell_type": "markdown",
   "metadata": {},
   "source": [
    "Once the crate is on, you can query the status of a blade in the crate like this (the ! at the beginning of this command means it's a shell command; pressing ctrl+enter will execute the command as if you were at a terminal)"
   ]
  },
  {
   "cell_type": "code",
   "execution_count": 3,
   "metadata": {},
   "outputs": [
    {
     "name": "stdout",
     "output_type": "stream",
     "text": [
      "================================================================================\n",
      "| BSI: 10.0.1.4/5/CEN (10.0.1.4/5/4)                                           |\n",
      "BSI Ld  State:  3          (READY)\n",
      "BSI Ld Status: 0x00000000  (SUCCESS)\n",
      "  BSI Version: 0x0103 = 1.3\n",
      "        MAC 0: 08:00:56:00:49:51\n",
      "        MAC 1: 08:00:56:00:49:52\n",
      "        MAC 2: 08:00:56:00:49:53\n",
      "        MAC 3: 08:00:56:00:49:54\n",
      "   DDR status: 0x0003: MemErr: F, MemRdy: T, Eth Link: Up\n",
      "  Enet uptime:        519 seconds\n",
      "  FPGA uptime:        520 seconds\n",
      " FPGA version: 0x00000001\n",
      " BL start adx: 0x04000000\n",
      "     Crate ID: 0x0003\n",
      "    ATCA slot: 5\n",
      "   AMC 0 info: Aux: 01 Ser: 7600000116288e70 Type: 0a Ver: C02 BOM: 00 Tag: 05\n",
      "     GIT hash: ed07dde945f4e616f17b7392df3be5ca4ffb40f8\n",
      "FW bld string: 'MicrowaveMuxBpEthGen2: Vivado v2018.2, pc95590 (x86_64), Built Thu Oct 18 08:40:11 PDT 2018 by mdewart'\n",
      "--------------------------------------------------------------------------------\n"
     ]
    }
   ],
   "source": [
    "!amcc_dump_bsi --all 10.0.1.4/5"
   ]
  },
  {
   "cell_type": "markdown",
   "metadata": {},
   "source": [
    "This is telling you a lot of information about the blade in the crate with IP 10.0.1.4 (marked on the front of the crate), slot 5.  For example, this tells you the exact FW the carrier has been loaded with (see the FW bld string) including its GIT hash (this is how the FW is uniquely versioned) as well as details about its state (for instance, you can see that it's ethernet link is up from the \"Eth Link:\" status string)."
   ]
  },
  {
   "cell_type": "markdown",
   "metadata": {},
   "source": [
    "## Starting the timing and soft IOC services"
   ]
  },
  {
   "cell_type": "markdown",
   "metadata": {},
   "source": [
    "In the campus system, data taking relies on a couple of software services that must be running on the SMuRF server.  The most important is the timing service, sioc-smrf-ts01.  If you've just powered the crate on, that service will have gone down on the SMuRF server and must be restarted.  Auxiliary SMuRF services run in the background in screen sessions.  To see which services are running:  "
   ]
  },
  {
   "cell_type": "code",
   "execution_count": 4,
   "metadata": {},
   "outputs": [
    {
     "name": "stdout",
     "output_type": "stream",
     "text": [
      "There is a screen on:\r",
      "\r\n",
      "\t5275.sioc-smrf-ml00\t(Detached)\r\n",
      "1 Socket in /var/run/screen/S-cryo.\r\n",
      "\r",
      "\r\n"
     ]
    }
   ],
   "source": [
    "!screen -ls"
   ]
  },
  {
   "cell_type": "markdown",
   "metadata": {},
   "source": [
    "I ran this just after power cycling the ATCA crate.  You can see there's an instance of sioc-smrf-ml00 running, but no instance of the timing service sioc-smrf-ts01.  ROOT permissions are required to start the timing server (get one of us to enter elevate permissions for you if you're trying this step).  To start the timing server, execute these commands in a terminal on the server (output included inline)."
   ]
  },
  {
   "cell_type": "raw",
   "metadata": {},
   "source": [
    "[cryo@smurf-srv04 shawn]$ su -\n",
    "Password:\n",
    "[root@smurf-srv04 ~]# service sioc-smrf-ts01 start\n",
    "Starting startupConsole.sh: My pid is 1177\n",
    "1169\n",
    "Starting sioc-smrf-ts01\n",
    "Now in  /usr/local/controls/epics/iocCommon/sioc-smrf-ts01\n",
    "EPICS_IOC_APP not found in /usr/local/controls/epics/iocCommon/sioc-smrf-ts01/startup.cmd, setting default\n",
    "sioc-smrf-ts01 runs from /usr/local/controls/epics/iocCommon/sioc-smrf-ts01/iocSpecificRelease/iocBoot/sioc-smrf-ts01\n",
    "Found executable from st.cmd: ../../bin/rhel6-x86_64/tpg\n",
    "/usr/local/controls/epics/iocCommon/sioc-smrf-ts01/iocSpecificRelease/iocBoot/sioc-smrf-ts01/../../bin/rhel6-x86_64/tpg\n",
    "About to run  sioc-smrf-ts01  using screen from  /usr/local/controls/epics/iocCommon/sioc-smrf-ts01\n",
    "screen -h 81920 -c screenrc -dm -S sioc-smrf-ts01 /usr/local/controls/epics/iocCommon/sioc-smrf-ts01/iocSpecificRelease/iocBoot/sioc-smrf-ts01/../../bin/rhel6-x86_64/tpg startup.cmd\n",
    "Exiting starupConsole.sh\n",
    "[root@smurf-srv04 ~]# exit                                 [  OK  ]\n",
    "logout"
   ]
  },
  {
   "cell_type": "markdown",
   "metadata": {},
   "source": [
    "We now see the timing service is running"
   ]
  },
  {
   "cell_type": "code",
   "execution_count": 5,
   "metadata": {},
   "outputs": [
    {
     "name": "stdout",
     "output_type": "stream",
     "text": [
      "There are screens on:\r",
      "\r\n",
      "\t5275.sioc-smrf-ml00\t(Detached)\r\n",
      "\t1332.sioc-smrf-ts01\t(Detached)\r\n",
      "2 Sockets in /var/run/screen/S-cryo.\r\n",
      "\r",
      "\r\n"
     ]
    }
   ],
   "source": [
    "!screen -ls"
   ]
  },
  {
   "cell_type": "markdown",
   "metadata": {},
   "source": [
    "The timing service TS01 takes EPICS control inputs to set up the timing output of the timing card.  The main use for SMURF is setting the rate for the triggers that drive the flux ramp.    I think we can write other timing words, etc, and that may be useful for a large system like Simons for sending global commands,  but flux ramp rate is the only feature that I’m aware of us using.  \n",
    "\n",
    "There is just one copy of TS01 running that controls the single timing generator card in the entire facility.  (EG for all of SLAC there will be one timing generator card and one TS02 running).  Then timing gets fanned out everywhere."
   ]
  },
  {
   "cell_type": "markdown",
   "metadata": {},
   "source": [
    "## Starting the transmitter and EPICs server"
   ]
  },
  {
   "cell_type": "markdown",
   "metadata": {},
   "source": [
    "In order to interact with the FW on the carrier, we need to start the EPICs server.  To do that, you must navigate to the place where the script lives which starts the transmitter and EPICs server and start it.  Enter these commands in a terminal on the SMuRF server (example command output shown inline):"
   ]
  },
  {
   "cell_type": "raw",
   "metadata": {},
   "source": [
    "[cryo@smurf-srv04 shawn]$ cd /usr/local/controls/Applications/smurf/smurf2mce/master/mcetransmit\n",
    "[cryo@smurf-srv04 mcetransmit]$ source smurf_run.sh                                             \n",
    "\n",
    "Untaring pyrogue tarball into /tmp/cryo/pyrogue\n",
    "Project name = MicrowaveMuxBpEthGen2-0x00000001-20181018084011-mdewart-ed07dde0-newRTM-fastEta-dirty.python\n",
    "PyRogue directory = /tmp/cryo/pyrogue/MicrowaveMuxBpEthGen2-0x00000001-20181018084011-mdewart-ed07dde0-newRTM-fastEta-dirty.python\n",
    "\n",
    "Setting the enviroment...\n",
    "Sourcing /usr/local/controls/Applications/smurf/smurf2mce/master/mcetransmit/scripts/control-server/setup_pcie.sh...\n",
    "\n",
    "Starting the server...\n",
    "/usr/local/controls/Applications/smurf/smurf2mce/master/mcetransmit/scripts/control-server/python/pyrogue_server.py -a 10.0.3.105 -c pcie-rssi-interleaved -l 3 -d /usr/local/controls/Applications/smurf/cmb_Det/cryo-det/ultrascale+/firmware/targets/MicrowaveMuxBpEthGen2/config/defaults.yml -e test_epics -f Int16 -b 524288        \n",
    "Rogue/pyrogue version v2.12.0-4-g764af9e. https://github.com/slaclab/rogue                                                                                           \n",
    "Loaded my module                                                                                                                                                     \n",
    "GARBGE COLLECTION DISABLED                                                                                                                                           \n",
    "sh: line 0: kill: (21493) - No such process                                                                                                                          \n",
    "                                                                                                                                                                     \n",
    "                                                                                                                                                                     \n",
    "                                                                                                                                                                     \n",
    "                                                                                                                                                                     \n",
    " SMURF already running: killing pid= 21493  at  Wed Jan 30 11:23:24 2019                                                                                             \n",
    "                                                                                                                                                                     \n",
    "                                                                                                                                                                     \n",
    "                                                                                                                                                                     \n",
    "                                                                                                                                                                     \n",
    "Using GDD-based EPICS server                                                                                                                                         \n",
    "Setting up the RSSI PCIe card...                                                                                                                                     \n",
    "  - PCIe present in the system             : Yes                                                                                                                     \n",
    "  - PCIe based communicartion selected     : Yes                                                                                                                     \n",
    "  - Using IP address                       : 10.0.3.105                                                                                                              \n",
    "  - Using RSSI link number                 : 3                                                                                                                       \n",
    "  ==============================================================                                                                                                     \n",
    "                         PCIe information                                                                                                                            \n",
    "  ==============================================================                                                                                                     \n",
    "    FW Version      : 0x00000032                                                                                                                                     \n",
    "    FW GitHash      : 0x300CC1908D1C562AFBC8553E6E4E6F8B5B3B6D74                                                                                                     \n",
    "    FW image name   : SmurfKcu1500RssiOffload10GbE                                                                                                                   \n",
    "    FW build env    : Vivado v2018.2                                                                                                                                 \n",
    "    FW build server : rdsrv220 (x86_64)                                                                                                                              \n",
    "    FW build date   : Fri Sep 14 15:18:52 PDT 2018                                                                                                                   \n",
    "    FW builder      : ruckman                                                                                                                                        \n",
    "    Up time         : 48 days, 13:56:33                                                                                                                              \n",
    "    Xilinx DNA ID   : 0x00000000410C1369CF70D10100008004                                                                                                             \n",
    "  ==============================================================                                                                                                     \n",
    "\n",
    "  * Looking for RSSI links pointing to 10.0.3.105...\n",
    "    RSSI Link 3 points to it. Disabling it...       \n",
    "    Closing PCIe RSSI link 3                        \n",
    "      PCIe register status:                         \n",
    "      EthConfig.BypRssi = 0x19                      \n",
    "      UdpClient[3].ClientRemoteIp = 10.0.3.105      \n",
    "      UdpClient[3].ClientRemotePort = 8192          \n",
    "      RssiClient[3].CloseConn = 1                   \n",
    "      RssiClient[3].OpenConn = 0                    \n",
    "\n",
    "  Done!\n",
    "\n",
    "  * Opening RSSI link...\n",
    "    Opening PCIe RSSI link 3\n",
    "      PCIe register status: \n",
    "      EthConfig.BypRssi = 0x11\n",
    "      UdpClient[3].ClientRemoteIp = 10.0.3.105\n",
    "      UdpClient[3].ClientRemotePort = 8198    \n",
    "      RssiClient[3].CloseConn = 0             \n",
    "      RssiClient[3].OpenConn = 1              \n",
    "  Done!                                       \n",
    "\n",
    "reading config file \n",
    "updated ip from tcp://127.0.0.1:3333,  to tcp://192.168.3.1:3334 \n",
    "updated port number from 3333,  to 3334                          \n",
    "updated data file name from  data,  to /data/smurf_data/1548812687.dat\n",
    "data_frames updated from 0 to 2000000\n",
    "updated filter order from 0 to 4\n",
    "updated filter gain from 1 to 1, str=1.0\n",
    "filter_a0 updated from 1 to 1, str = 1.0\n",
    "filter_a1 updated from 0 to -3.7415, str = -3.741497676422641\n",
    "filter_a2 updated from 0 to 5.25738, str = 5.25738179278082\n",
    "filter_a3 updated from 0 to -3.28787, str = -3.2878720008343643\n",
    "filter_a4 updated from 0 to 0.772072, str = 0.7720723746179725\n",
    "filter_b0 updated from 1 to 5.28063e-06 str = 5.280633861680253e-06\n",
    "filter_b1 updated from 0 to 2.11225e-05 str = 2.112253544672101e-05\n",
    "filter_b2 updated from 0 to 3.16838e-05 str = 3.168380317008152e-05\n",
    "filter_b3 updated from 0 to 2.11225e-05 str = 2.112253544672101e-05\n",
    "filter_b4 updated from 0 to 5.28063e-06 str = 5.280633861680253e-06\n",
    "\n",
    "Starting Smurf2MCE::runThread()\n",
    "\n",
    "Connecting to tcp://192.168.3.1:3334\n",
    "Starting rogue server\n",
    "\n",
    "FPGA image build information:\n",
    "===================================\n",
    "BuildStamp              : MicrowaveMuxBpEthGen2: Vivado v2018.2, pc95590 (x86_64), Built Thu Oct 18 08:40:11 PDT 2018 by mdewart\n",
    "FPGA Version            : 0x1\n",
    "Git hash                : 0xed07dde945f4e616f17b7392df3be5ca4ffb40f8\n",
    "\n",
    "Starting EPICS server using prefix \"test_epics\"\n",
    "cas warning: Configured TCP port was unavailable.\n",
    "cas warning: Using dynamically assigned TCP port 38780,\n",
    "cas warning: but now two or more servers share the same UDP port.\n",
    "cas warning: Depending on your IP kernel this server may not be\n",
    "cas warning: reachable with UDP unicast (a host's IP in EPICS_CA_ADDR_LIST)\n",
    "Enabling stream data on PVs (buffer size = 524288 points, data type = Int16)\n",
    "Object::connect: No such slot TaskManager::GroupManager::taskDestroyed(QObject*)\n",
    "Starting GUI...\n"
   ]
  },
  {
   "cell_type": "markdown",
   "metadata": {},
   "source": [
    "A PyROGUE GUI for interacting with FW registers on the carrier will pop up once the transmitter & EPICs server have fully initialized.  That looks like this when it first opens:\n",
    "\n",
    "<img style=\"transform: rotate(0deg); width:500px\" src=\"setup_pics/smurf_pyrogue_gui.png\" alt=\"PyROGUE GUI\" title=\"PyROGUE GUI\" />"
   ]
  },
  {
   "cell_type": "markdown",
   "metadata": {},
   "source": [
    "Through this gui you can change the values of a huge number of registers in the FPGA firmware that control what the SMuRF does."
   ]
  },
  {
   "cell_type": "markdown",
   "metadata": {},
   "source": [
    "## Loading carrier & pysmurf defaults"
   ]
  },
  {
   "cell_type": "markdown",
   "metadata": {},
   "source": [
    "Once the PyROGUE GUI and transmitter are up, you're ready to initalize the system through PySMURF.   "
   ]
  },
  {
   "cell_type": "code",
   "execution_count": 6,
   "metadata": {
    "scrolled": true
   },
   "outputs": [
    {
     "name": "stdout",
     "output_type": "stream",
     "text": [
      "[ 2019-01-30 11:28:40 ]  Setting up...\n",
      "[ 2019-01-30 11:28:40 ]  Toggling DACs\n",
      "[ 2019-01-30 11:28:40 ]  caput test_epics:AMCc:FpgaTopLevel:AppTop:AppCore:MicrowaveMuxCore[0]:DBG:dacReset[0] 1\n",
      "[ 2019-01-30 11:28:40 ]  caput test_epics:AMCc:FpgaTopLevel:AppTop:AppCore:MicrowaveMuxCore[0]:DBG:dacReset[1] 1\n",
      "[ 2019-01-30 11:28:40 ]  caput test_epics:AMCc:FpgaTopLevel:AppTop:AppCore:MicrowaveMuxCore[0]:DBG:dacReset[0] 0\n",
      "[ 2019-01-30 11:28:40 ]  caput test_epics:AMCc:FpgaTopLevel:AppTop:AppCore:MicrowaveMuxCore[0]:DBG:dacReset[1] 0\n",
      "[ 2019-01-30 11:28:40 ]  caput test_epics:AMCc:ReadAll 1\n",
      "[ 2019-01-30 11:28:45 ]  Waiting 5.00 seconds after...\n",
      "[ 2019-01-30 11:28:50 ]  Done waiting.\n",
      "[ 2019-01-30 11:28:50 ]  caput test_epics:AMCc:setDefaults 1\n",
      "[ 2019-01-30 11:28:57 ]  Waiting 5.00 seconds after...\n",
      "[ 2019-01-30 11:29:02 ]  Done waiting.\n",
      "[ 2019-01-30 11:29:02 ]  caput test_epics:AMCc:FpgaTopLevel:AppTop:AppCore:SysgenCryo:Base[2]:iqSwapIn 0\n",
      "[ 2019-01-30 11:29:02 ]  caput test_epics:AMCc:FpgaTopLevel:AppTop:AppCore:SysgenCryo:Base[2]:iqSwapOut 0\n",
      "[ 2019-01-30 11:29:02 ]  caput test_epics:AMCc:FpgaTopLevel:AppTop:AppCore:SysgenCryo:Base[2]:refPhaseDelay 6\n",
      "[ 2019-01-30 11:29:02 ]  caput test_epics:AMCc:FpgaTopLevel:AppTop:AppCore:SysgenCryo:Base[2]:refPhaseDelayFine 0\n",
      "[ 2019-01-30 11:29:02 ]  caput test_epics:AMCc:FpgaTopLevel:AppTop:AppCore:SysgenCryo:Base[2]:toneScale 2\n",
      "[ 2019-01-30 11:29:02 ]  caput test_epics:AMCc:FpgaTopLevel:AppTop:AppCore:SysgenCryo:Base[2]:analysisScale 3\n",
      "[ 2019-01-30 11:29:02 ]  caput test_epics:AMCc:FpgaTopLevel:AppTop:AppCore:SysgenCryo:Base[2]:feedbackEnable 1\n",
      "[ 2019-01-30 11:29:02 ]  caput test_epics:AMCc:FpgaTopLevel:AppTop:AppCore:SysgenCryo:Base[2]:feedbackGain 256\n",
      "[ 2019-01-30 11:29:02 ]  caput test_epics:AMCc:FpgaTopLevel:AppTop:AppCore:SysgenCryo:Base[2]:lmsGain 7\n",
      "[ 2019-01-30 11:29:02 ]  caput test_epics:AMCc:FpgaTopLevel:AppTop:AppCore:SysgenCryo:Base[2]:feedbackPolarity 1\n",
      "[ 2019-01-30 11:29:02 ]  caput test_epics:AMCc:FpgaTopLevel:AppTop:AppCore:SysgenCryo:Base[2]:synthesisScale 3\n",
      "[ 2019-01-30 11:29:02 ]  caput test_epics:AMCc:FpgaTopLevel:AppTop:AppTopJesd[0]:JesdTx:dataOutMux[6] UserData\n",
      "[ 2019-01-30 11:29:02 ]  caput test_epics:AMCc:FpgaTopLevel:AppTop:AppTopJesd[0]:JesdTx:dataOutMux[7] UserData\n",
      "[ 2019-01-30 11:29:02 ]  caput test_epics:AMCc:FpgaTopLevel:AppTop:AppCore:MicrowaveMuxCore[0]:ATT:UC[3] 0\n",
      "[ 2019-01-30 11:29:02 ]  caput test_epics:AMCc:FpgaTopLevel:AppTop:AppCore:MicrowaveMuxCore[0]:ATT:DC[3] 0\n",
      "[ 2019-01-30 11:29:02 ]  caput test_epics:AMCc:FpgaTopLevel:AppTop:AppCore:SysgenCryo:Base[2]:dspEnable 1\n",
      "[ 2019-01-30 11:29:02 ]  caput test_epics:AMCc:FpgaTopLevel:AppTop:AppCore:SysgenCryo:Base[2]:CryoChannels:gradientDescentGain 1e-05\n",
      "[ 2019-01-30 11:29:02 ]  caput test_epics:AMCc:FpgaTopLevel:AppTop:AppCore:SysgenCryo:Base[2]:CryoChannels:gradientDescentAverages 10\n",
      "[ 2019-01-30 11:29:02 ]  caput test_epics:AMCc:FpgaTopLevel:AppTop:AppCore:SysgenCryo:Base[2]:CryoChannels:etaScanAverages 10\n",
      "[ 2019-01-30 11:29:02 ]  caput test_epics:AMCc:FpgaTopLevel:AppTop:AppCore:SysgenCryo:Base[3]:iqSwapIn 0\n",
      "[ 2019-01-30 11:29:02 ]  caput test_epics:AMCc:FpgaTopLevel:AppTop:AppCore:SysgenCryo:Base[3]:iqSwapOut 0\n",
      "[ 2019-01-30 11:29:02 ]  caput test_epics:AMCc:FpgaTopLevel:AppTop:AppCore:SysgenCryo:Base[3]:refPhaseDelay 6\n",
      "[ 2019-01-30 11:29:02 ]  caput test_epics:AMCc:FpgaTopLevel:AppTop:AppCore:SysgenCryo:Base[3]:refPhaseDelayFine 0\n",
      "[ 2019-01-30 11:29:02 ]  caput test_epics:AMCc:FpgaTopLevel:AppTop:AppCore:SysgenCryo:Base[3]:toneScale 2\n",
      "[ 2019-01-30 11:29:02 ]  caput test_epics:AMCc:FpgaTopLevel:AppTop:AppCore:SysgenCryo:Base[3]:analysisScale 3\n",
      "[ 2019-01-30 11:29:02 ]  caput test_epics:AMCc:FpgaTopLevel:AppTop:AppCore:SysgenCryo:Base[3]:feedbackEnable 1\n",
      "[ 2019-01-30 11:29:02 ]  caput test_epics:AMCc:FpgaTopLevel:AppTop:AppCore:SysgenCryo:Base[3]:feedbackGain 256\n",
      "[ 2019-01-30 11:29:02 ]  caput test_epics:AMCc:FpgaTopLevel:AppTop:AppCore:SysgenCryo:Base[3]:lmsGain 7\n",
      "[ 2019-01-30 11:29:03 ]  caput test_epics:AMCc:FpgaTopLevel:AppTop:AppCore:SysgenCryo:Base[3]:feedbackPolarity 1\n",
      "[ 2019-01-30 11:29:03 ]  caput test_epics:AMCc:FpgaTopLevel:AppTop:AppCore:SysgenCryo:Base[3]:synthesisScale 3\n",
      "[ 2019-01-30 11:29:03 ]  caput test_epics:AMCc:FpgaTopLevel:AppTop:AppTopJesd[0]:JesdTx:dataOutMux[8] UserData\n",
      "[ 2019-01-30 11:29:03 ]  caput test_epics:AMCc:FpgaTopLevel:AppTop:AppTopJesd[0]:JesdTx:dataOutMux[9] UserData\n",
      "[ 2019-01-30 11:29:03 ]  caput test_epics:AMCc:FpgaTopLevel:AppTop:AppCore:MicrowaveMuxCore[0]:ATT:UC[4] 0\n",
      "[ 2019-01-30 11:29:03 ]  caput test_epics:AMCc:FpgaTopLevel:AppTop:AppCore:MicrowaveMuxCore[0]:ATT:DC[4] 0\n",
      "[ 2019-01-30 11:29:03 ]  caput test_epics:AMCc:FpgaTopLevel:AppTop:AppCore:SysgenCryo:Base[3]:dspEnable 1\n",
      "[ 2019-01-30 11:29:03 ]  caput test_epics:AMCc:FpgaTopLevel:AppTop:AppCore:SysgenCryo:Base[3]:CryoChannels:gradientDescentGain 1e-05\n",
      "[ 2019-01-30 11:29:03 ]  caput test_epics:AMCc:FpgaTopLevel:AppTop:AppCore:SysgenCryo:Base[3]:CryoChannels:gradientDescentAverages 10\n",
      "[ 2019-01-30 11:29:03 ]  caput test_epics:AMCc:FpgaTopLevel:AppTop:AppCore:SysgenCryo:Base[3]:CryoChannels:etaScanAverages 10\n",
      "[ 2019-01-30 11:29:03 ]  caput test_epics:AMCc:FpgaTopLevel:AmcCarrierCore:AmcCarrierTiming:EvrV2CoreTriggers:EvrV2TriggerReg[0]:Width 10\n",
      "[ 2019-01-30 11:29:03 ]  caput test_epics:AMCc:FpgaTopLevel:AmcCarrierCore:AmcCarrierTiming:EvrV2CoreTriggers:EvrV2TriggerReg[0]:Enable 1\n",
      "[ 2019-01-30 11:29:03 ]  set_evr_channel_reg_enable sets 2 bits. enable and Enable.\n",
      "[ 2019-01-30 11:29:03 ]  caput test_epics:AMCc:FpgaTopLevel:AmcCarrierCore:AmcCarrierTiming:EvrV2CoreTriggers:EvrV2ChannelReg[0]:Enable 1\n",
      "[ 2019-01-30 11:29:03 ]  caput test_epics:AMCc:FpgaTopLevel:AmcCarrierCore:AmcCarrierTiming:EvrV2CoreTriggers:EvrV2ChannelReg[0]:enable True\n",
      "[ 2019-01-30 11:29:03 ]  caput test_epics:AMCc:FpgaTopLevel:AmcCarrierCore:AmcCarrierTiming:EvrV2CoreTriggers:EvrV2TriggerReg[0]:enable True\n",
      "[ 2019-01-30 11:29:03 ]  caput test_epics:AMCc:FpgaTopLevel:AmcCarrierCore:AmcCarrierTiming:EvrV2CoreTriggers:EvrV2ChannelReg[0]:DestSel 131072\n",
      "[ 2019-01-30 11:29:03 ]  caput test_epics:AMCc:FpgaTopLevel:AppTop:AppCore:RtmCryoDet:EnableRampTrigger 1\n",
      "[ 2019-01-30 11:29:03 ]  caput test_epics:AMCc:FpgaTopLevel:AppTop:AppCore:RtmCryoDet:SelectRamp 1\n",
      "[ 2019-01-30 11:29:03 ]  caput test_epics:AMCc:FpgaTopLevel:AppTop:AppCore:RtmCryoDet:RampStartMode 1\n",
      "[ 2019-01-30 11:29:03 ]  caput test_epics:AMCc:FpgaTopLevel:AppTop:AppCore:RtmCryoDet:CpldReset 0\n",
      "[ 2019-01-30 11:29:03 ]  caput test_epics:AMCc:FpgaTopLevel:AppTop:AppCore:RtmCryoDet:CpldReset 1\n",
      "[ 2019-01-30 11:29:03 ]  caput test_epics:AMCc:FpgaTopLevel:AppTop:AppCore:RtmCryoDet:CpldReset 0\n",
      "[ 2019-01-30 11:29:03 ]  Reading SMuRF to GCP config file\n",
      "[ 2019-01-30 11:29:03 ]  caput test_epics:AMCc:FpgaTopLevel:AppTop:AppCore:RtmCryoDet:RtmSpiSr:CfgRegEnaBit 0\n",
      "[ 2019-01-30 11:29:03 ]  caput test_epics:AMCc:FpgaTopLevel:AppTop:AppCore:RtmCryoDet:RtmSpiSr:CfgRegEnaBit 0\n",
      "[ 2019-01-30 11:29:03 ]  Percent full scale = 50.000%\n",
      "[ 2019-01-30 11:29:03 ]  caput test_epics:AMCc:FpgaTopLevel:AppTop:AppCore:RtmCryoDet:LowCycle 5\n",
      "[ 2019-01-30 11:29:03 ]  caput test_epics:AMCc:FpgaTopLevel:AppTop:AppCore:RtmCryoDet:HighCycle 5\n",
      "[ 2019-01-30 11:29:03 ]  caput test_epics:AMCc:FpgaTopLevel:AppTop:AppCore:RtmCryoDet:KRelay 3\n",
      "[ 2019-01-30 11:29:03 ]  caput test_epics:AMCc:FpgaTopLevel:AppTop:AppCore:RtmCryoDet:RampMaxCnt 76799.0\n",
      "[ 2019-01-30 11:29:03 ]  caput test_epics:AMCc:FpgaTopLevel:AppTop:AppCore:RtmCryoDet:SelectRamp 1\n",
      "[ 2019-01-30 11:29:03 ]  caput test_epics:AMCc:FpgaTopLevel:AppTop:AppCore:RtmCryoDet:RampStartMode 1\n",
      "[ 2019-01-30 11:29:03 ]  caput test_epics:AMCc:FpgaTopLevel:AppTop:AppCore:RtmCryoDet:PulseWidth 400\n",
      "[ 2019-01-30 11:29:04 ]  caput test_epics:AMCc:FpgaTopLevel:AppTop:AppCore:RtmCryoDet:DebounceWidth 255\n",
      "[ 2019-01-30 11:29:04 ]  caput test_epics:AMCc:FpgaTopLevel:AppTop:AppCore:RtmCryoDet:RtmSpiSr:RampSlope 0\n",
      "[ 2019-01-30 11:29:04 ]  caput test_epics:AMCc:FpgaTopLevel:AppTop:AppCore:RtmCryoDet:RtmSpiSr:ModeControl 0\n",
      "[ 2019-01-30 11:29:04 ]  caput test_epics:AMCc:FpgaTopLevel:AppTop:AppCore:RtmCryoDet:RtmSpiSr:FastSlowStepSize 335544.0\n",
      "[ 2019-01-30 11:29:04 ]  caput test_epics:AMCc:FpgaTopLevel:AppTop:AppCore:RtmCryoDet:RtmSpiSr:FastSlowRstValue 1073742848.0\n",
      "[ 2019-01-30 11:29:04 ]  caput test_epics:AMCc:FpgaTopLevel:AppTop:AppCore:RtmCryoDet:EnableRampTrigger 1\n",
      "[ 2019-01-30 11:29:04 ]  caput test_epics:AMCc:FpgaTopLevel:AmcCarrierCore:AmcCarrierTiming:EvrV2CoreTriggers:EvrV2ChannelReg[0]:RateSel 6\n",
      "[ 2019-01-30 11:29:04 ]  caput test_epics:AMCc:FpgaTopLevel:AppTop:AppCore:TimingHeader:userConfig[0] 2\n",
      "[ 2019-01-30 11:29:04 ]  caput test_epics:AMCc:FpgaTopLevel:AppTop:AppCore:TimingHeader:userConfig[0] 6\n",
      "[ 2019-01-30 11:29:04 ]  caput test_epics:AMCc:FpgaTopLevel:AppTop:AppCore:SysgenCryo:Base[2]:streamEnable 1\n"
     ]
    },
    {
     "name": "stdout",
     "output_type": "stream",
     "text": [
      "[ 2019-01-30 11:29:04 ]  caput test_epics:AMCc:FpgaTopLevel:AppTop:AppCore:SysgenCryo:Base[3]:streamEnable 1\n",
      "[ 2019-01-30 11:29:04 ]  caput test_epics:AMCc:FpgaTopLevel:AppTop:AppCore:TimingHeader:userConfig[0] 7\n",
      "[ 2019-01-30 11:29:04 ]  Waiting 1.00 seconds after...\n",
      "[ 2019-01-30 11:29:05 ]  Done waiting.\n",
      "[ 2019-01-30 11:29:05 ]  caput test_epics:AMCc:FpgaTopLevel:AppTop:AppCore:TimingHeader:userConfig[0] 6\n",
      "[ 2019-01-30 11:29:05 ]  caput test_epics:AMCc:FpgaTopLevel:AppTop:AppCore:RtmCryoDet:RtmSpiMax:HemtBiasDacCtrlRegCh[33] 2\n",
      "[ 2019-01-30 11:29:05 ]  Setting HEMT LNA Vg from config file to Vg=0.6000\n",
      "[ 2019-01-30 11:29:05 ]  caput test_epics:AMCc:FpgaTopLevel:AppTop:AppCore:RtmCryoDet:RtmSpiMax:HemtBiasDacDataRegCh[33] 418394\n",
      "[ 2019-01-30 11:29:05 ]  caput test_epics:AMCc:FpgaTopLevel:AppTop:AppCore:RtmCryoDet:RtmSpiMax:TesBiasDacCtrlRegCh[2] 2\n",
      "[ 2019-01-30 11:29:05 ]  Setting 50K LNA Vg from config file to Vg=-0.7180\n",
      "[ 2019-01-30 11:29:05 ]  caput test_epics:AMCc:FpgaTopLevel:AppTop:AppCore:RtmCryoDet:RtmSpiMax:TesBiasDacDataRegCh[2] -184982.20343980342\n",
      "[ 2019-01-30 11:29:06 ]  {'hemt_Vg': 0.6, 'hemt_Id': -1.0069299999999999, '50K_Vg': -0.7179992103576661, '50K_Id': 0.0}\n",
      "[ 2019-01-30 11:29:06 ]  {'hemt_Vg': 0.6, 'hemt_Id': -1.0069299999999999, '50K_Vg': -0.7179992103576661, '50K_Id': 0.0}\n",
      "[ 2019-01-30 11:29:06 ]  Done with setup\n"
     ]
    }
   ],
   "source": [
    "import pysmurf\n",
    "S = pysmurf.SmurfControl(make_logfile=False,setup=True,epics_root='test_epics',cfg_file='/usr/local/controls/Applications/smurf/pysmurf/pysmurf/cfg_files/experiment_fp28_smurfsrv04.cfg')"
   ]
  },
  {
   "cell_type": "markdown",
   "metadata": {},
   "source": [
    "If successful, and you are looking at the SMuRF RF output (either directly or with a pickoff) in a signal analyzer, you will see spurs pop up after a successful initiation corresponding to the SMuRF LOs (and some other things - all RF systems have spurs).  E.g. here's what it looks like for a low band AMC with the 5-5.5 and 5.5-6GHz bands configured:\n",
    "<img style=\"transform: rotate(0deg); width:1000px\" src=\"setup_pics/signal_analyzer_after_band2and3_lbinit.png\" alt=\"Signal Analyzer Pick-off After PySMuRF Setup\" title=\"Signal Analyzer Pick-off After PySMuRF Setup\" />\n"
   ]
  },
  {
   "cell_type": "markdown",
   "metadata": {},
   "source": [
    "This is looking at the SMuRF signal after the cryostat, through a 16dB directional coupler pick-off."
   ]
  }
 ],
 "metadata": {
  "kernelspec": {
   "display_name": "Python 3",
   "language": "python",
   "name": "python3"
  },
  "language_info": {
   "codemirror_mode": {
    "name": "ipython",
    "version": 3
   },
   "file_extension": ".py",
   "mimetype": "text/x-python",
   "name": "python",
   "nbconvert_exporter": "python",
   "pygments_lexer": "ipython3",
   "version": "3.6.1"
  }
 },
 "nbformat": 4,
 "nbformat_minor": 2
}
