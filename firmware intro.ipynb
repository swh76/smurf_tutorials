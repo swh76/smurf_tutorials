{
 "cells": [
  {
   "cell_type": "markdown",
   "metadata": {},
   "source": [
    "## Overview"
   ]
  },
  {
   "cell_type": "markdown",
   "metadata": {},
   "source": [
    "In this section we'll go over in brief how to interact with the firmware in order to command SMuRF and get information back from it. We'll cover 4 major topics:\n",
    "0. Gets and puts\n",
    "1. Commanding tones\n",
    "2. Reading response\n",
    "3. Firmware structure"
   ]
  },
  {
   "cell_type": "markdown",
   "metadata": {},
   "source": [
    "### Gets and puts"
   ]
  },
  {
   "cell_type": "markdown",
   "metadata": {},
   "source": [
    "SMuRF is commanded and read out via an EPICS server, which maps the physical registers of the electronics to the firmware. This is further wrapped in a layer called PyRogue, which maps the firmware registers to human-readable names. The registers are termed \"process variables\", or \"PVs\", and we use these names somewhat interchangeably. Sometimes, it is instructive to look at the PyRogue GUI to get a sense for registers that are grouped together, but in practice we try to keep our interactions out of the GUI.\n",
    "\n",
    "The only two operations that EPICS allows are \"gets\" and \"puts\", which are reads and writes. Not all registers accept both operations, although most do. We use the PyRogue name to address the register, so you can get the full EPICS path of a register by navigating the PyRogue GUI tree. "
   ]
  },
  {
   "cell_type": "markdown",
   "metadata": {},
   "source": [
    "The EPICS command for a read is \"caget\", and the command for a write is \"caput\". It turns out that as long as a computer has EPICS installed, we don't even need PyEpics or pysmurf and can just type them into the bash command line:"
   ]
  },
  {
   "cell_type": "code",
   "execution_count": 1,
   "metadata": {},
   "outputs": [
    {
     "name": "stdout",
     "output_type": "stream",
     "text": [
      "test_epics:AMCc:FpgaTopLevel:AppTop:AppCore:SysgenCryo:Base[2]:numberChannels 512\r\n"
     ]
    }
   ],
   "source": [
    "!caget test_epics:AMCc:FpgaTopLevel:AppTop:AppCore:SysgenCryo:Base[2]:numberChannels"
   ]
  },
  {
   "cell_type": "markdown",
   "metadata": {},
   "source": [
    "In PySmurf, we have wrapped the functionality of PyEpics so if you don't have a particular PV path wrapped into an existing PySmurf function, you can still get/put with the PV path as a string:"
   ]
  },
  {
   "cell_type": "code",
   "execution_count": 2,
   "metadata": {},
   "outputs": [],
   "source": [
    "import numpy as np\n",
    "import pysmurf\n",
    "import matplotlib.pyplot as plt\n",
    "\n",
    "S = pysmurf.SmurfControl(make_logfile=False, cfg_file='/usr/local/controls/Applications/smurf/pysmurf/pysmurf/cfg_files/experiment_fp28_smurfsrv04.cfg')"
   ]
  },
  {
   "cell_type": "code",
   "execution_count": 3,
   "metadata": {},
   "outputs": [
    {
     "data": {
      "text/plain": [
       "512"
      ]
     },
     "execution_count": 3,
     "metadata": {},
     "output_type": "execute_result"
    }
   ],
   "source": [
    "S._caget(\"test_epics:AMCc:FpgaTopLevel:AppTop:AppCore:SysgenCryo:Base[2]:numberChannels\")"
   ]
  },
  {
   "cell_type": "markdown",
   "metadata": {},
   "source": [
    "Most of the functions that might be useful to end users have already been wrapped into PySmurf, in <font color=blue>pysmurf/command/smurf_command.py</font>"
   ]
  },
  {
   "cell_type": "code",
   "execution_count": 4,
   "metadata": {},
   "outputs": [
    {
     "data": {
      "text/plain": [
       "512"
      ]
     },
     "execution_count": 4,
     "metadata": {},
     "output_type": "execute_result"
    }
   ],
   "source": [
    "S.get_number_channels(band=2)"
   ]
  },
  {
   "cell_type": "markdown",
   "metadata": {},
   "source": [
    "The example we've been using above is marked \"RO\" in the PyRogue GUI, which means it is read-only. We cannot change the number of channels in band 2 even if we wanted to. There are, however, other PVs we _can_ change, and this is how we tell SMuRF that we want to change an amplifier or TES bias, turn on/off tones, change tracking parameters, configure the flux ramp, etc. We'll get into that in the next section. "
   ]
  },
  {
   "cell_type": "markdown",
   "metadata": {},
   "source": [
    "### Commanding tones"
   ]
  },
  {
   "cell_type": "markdown",
   "metadata": {},
   "source": [
    "In its most basic form, SMuRF reads out a comb of resonators by sending in tones (produced by the DAC) and reading back the response in the ADC. By monitoring the complex response of the system versus what the SMuRF thinks it is sending, we can do all the fun things with tone tracking, running in open loop mode, etc.\n",
    "\n",
    "Therefore, the most basic RF-related operation (as opposed to flux ramp, TES biasing, and amplifier biasing) is configuring a tone. Every tone is set by a _channel_, and has an _amplitude_, a _frequency offset_, some _eta parameters_, and a _feedback_ boolean. For now, we'll ignore the eta parameters and feedback boolean; those only start mattering when we talk about tone tracking."
   ]
  },
  {
   "cell_type": "markdown",
   "metadata": {},
   "source": [
    "The SMuRF firmware is divided into _bands_, _subbands_, and _channels_. This will be covered in more depth below, in \"Firmware Structure\". The important thing to know now is that one channel = one tone. There are 512 channels per band, numbered from 0 to 511 in a very non-intuitive interleavd way. Each band covers 500MHz in frequency space, and channel 0 is usually a good one to play with, because it is in the middle of the frequency band. So for band 2, which spans 5-5.5GHz, band 2 channel 0 can be found somewhere around 5.25GHz. "
   ]
  },
  {
   "cell_type": "markdown",
   "metadata": {},
   "source": [
    "We can set all the parameters for a channel with the function <font color=blue>config_cryo_channel</font>. There are lots of arguments, which can be accessed by viewing the docstring. We'll toggle the amplitude:"
   ]
  },
  {
   "cell_type": "code",
   "execution_count": 5,
   "metadata": {},
   "outputs": [],
   "source": [
    "# Set band 2, channel 0 to amplitude = 10\n",
    "S.config_cryo_channel(2,0,0,10,0,0,0)"
   ]
  },
  {
   "cell_type": "code",
   "execution_count": 6,
   "metadata": {},
   "outputs": [
    {
     "data": {
      "text/plain": [
       "10"
      ]
     },
     "execution_count": 6,
     "metadata": {},
     "output_type": "execute_result"
    }
   ],
   "source": [
    "# Check the amplitude\n",
    "S.get_amplitude_scale_channel(2,0)"
   ]
  },
  {
   "cell_type": "code",
   "execution_count": 7,
   "metadata": {},
   "outputs": [],
   "source": [
    "# Set it back to 0\n",
    "S.config_cryo_channel(2,0,0,0,0,0,0)"
   ]
  },
  {
   "cell_type": "code",
   "execution_count": 8,
   "metadata": {},
   "outputs": [
    {
     "data": {
      "text/plain": [
       "0"
      ]
     },
     "execution_count": 8,
     "metadata": {},
     "output_type": "execute_result"
    }
   ],
   "source": [
    "# Check the amplitude again\n",
    "S.get_amplitude_scale_channel(2,0)"
   ]
  },
  {
   "cell_type": "markdown",
   "metadata": {},
   "source": [
    "The amplitude scale moves in 3dB steps, with about -33dBm per tone for amplitude scale = 10 and a maximum tone power of 15. In practice, it maximizes SMuRF signal/noise in order to run with a higher tone power, and then add attenuation to get to the optimal tone power. NIST umux resonators prefer about -75dBm per tone, although the exact minimum can differ between resonators. We can toggle the tone power and watch it move here:"
   ]
  },
  {
   "cell_type": "code",
   "execution_count": 9,
   "metadata": {},
   "outputs": [],
   "source": [
    "# go ahead and play around with the amplitude argument while watching the SA\n",
    "S.config_cryo_channel(2,0,0,11,0,0,0)"
   ]
  },
  {
   "cell_type": "code",
   "execution_count": 10,
   "metadata": {},
   "outputs": [],
   "source": [
    "# turn it back off for now\n",
    "S.config_cryo_channel(2,0,0,0,0,0,0)"
   ]
  },
  {
   "cell_type": "markdown",
   "metadata": {},
   "source": [
    "The frequency_MHz parameter shifts the tone around a bit. The range allowed is the subband width, which is about +/- 3MHz in each direction; typically we'll move in 10kHz steps if we're tuning extremely finely, or 0.1MHz steps if we're trying to move coarsely. In practice, the tuning algorithm (covered somewhere else) will determine this number empirically and set it such that the tone is centered at the minimum of a resonance. Sometimes, though, if we're intentionally trying to move off resonance, we'll move this by a bit. You can watch the signal analyzer while toggling this parameter here to explore its behavior:"
   ]
  },
  {
   "cell_type": "code",
   "execution_count": 11,
   "metadata": {},
   "outputs": [],
   "source": [
    "S.config_cryo_channel(2, 0, 0.1, 10, 0, 0, 0)"
   ]
  },
  {
   "cell_type": "code",
   "execution_count": 12,
   "metadata": {},
   "outputs": [],
   "source": [
    "S.config_cryo_channel(2, 0, -0.1, 10, 0, 0, 0)"
   ]
  },
  {
   "cell_type": "code",
   "execution_count": 13,
   "metadata": {},
   "outputs": [],
   "source": [
    "S.config_cryo_channel(2, 0, 0, 0, 0, 0, 0)"
   ]
  },
  {
   "cell_type": "markdown",
   "metadata": {},
   "source": [
    "### Reading Response"
   ]
  },
  {
   "cell_type": "markdown",
   "metadata": {},
   "source": [
    "Usually, we are interested in monitoring response with time, which is covered more in the \"data\" tutorial. In that case, SMuRF will return a timestream for one channel or all the channels in a band. The contents of this timestream differ based on the settings used. \n",
    "\n",
    "On a lower level, we sometimes want to make sure that SMuRF it actually outputting tones and reading back any sort of response correctly. We first turn on a (slight off-center) tone:"
   ]
  },
  {
   "cell_type": "code",
   "execution_count": 14,
   "metadata": {},
   "outputs": [],
   "source": [
    "S.config_cryo_channel(2, 0, 1, 10, 0, 0, 0)"
   ]
  },
  {
   "cell_type": "markdown",
   "metadata": {},
   "source": [
    "We can now check what the DAC thinks it is putting out. The function <font color=blue>read_dac_data</font> will take a DAC number (here, it happens to also be 2) and a sample length. Unlike the data streaming, this method of data taking fills an internal buffer and then dumps that buffer all at once. 2^21 samples is approximately the largest I would comfortably push this."
   ]
  },
  {
   "cell_type": "code",
   "execution_count": 15,
   "metadata": {},
   "outputs": [
    {
     "name": "stdout",
     "output_type": "stream",
     "text": [
      "[ 2019-01-31 17:23:45 ]  caput test_epics:AMCc:FpgaTopLevel:AppTop:DaqMuxV2[0]:TriggerDaq 1\n"
     ]
    }
   ],
   "source": [
    "dac = S.read_dac_data(2, 2**19)"
   ]
  },
  {
   "cell_type": "code",
   "execution_count": 16,
   "metadata": {},
   "outputs": [],
   "source": [
    "from scipy import signal"
   ]
  },
  {
   "cell_type": "markdown",
   "metadata": {},
   "source": [
    "The fundamental sample rate of the SMuRF is 614.4MHz, and we want the two-sided psd. I've smoothed this psd a little, and plotted it on a semilog axis. We see that there's a single tone, approximately centered, across a 600MHz span. The tone is very sharp and has high signal/noise. "
   ]
  },
  {
   "cell_type": "code",
   "execution_count": 21,
   "metadata": {},
   "outputs": [],
   "source": [
    "# take the psd\n",
    "f_psd, dac_psd = signal.welch(dac, fs = 614.4e6, nperseg = 2**16, return_onesided=False)"
   ]
  },
  {
   "cell_type": "code",
   "execution_count": 26,
   "metadata": {},
   "outputs": [
    {
     "data": {
      "text/plain": [
       "Text(0, 0.5, 'Amplitude (arb)')"
      ]
     },
     "execution_count": 26,
     "metadata": {},
     "output_type": "execute_result"
    },
    {
     "data": {
      "image/png": "[encoded data removed]",
      "text/plain": [
       "<Figure size 432x288 with 1 Axes>"
      ]
     },
     "metadata": {
      "needs_background": "light"
     },
     "output_type": "display_data"
    }
   ],
   "source": [
    "# plot it to see if SMuRF thinks it's outputting something\n",
    "plt.semilogy(f_psd, dac_psd)\n",
    "plt.xlabel('Frequency (Hz)')\n",
    "plt.ylabel('Amplitude (arb)')"
   ]
  },
  {
   "cell_type": "markdown",
   "metadata": {},
   "source": [
    "Likewise, we can check what the ADC is reading. This is higher level than the timestream data that we usually take, and so it is a good check that stuff is actually reading back in."
   ]
  },
  {
   "cell_type": "code",
   "execution_count": 27,
   "metadata": {},
   "outputs": [
    {
     "name": "stdout",
     "output_type": "stream",
     "text": [
      "[ 2019-01-31 17:33:02 ]  caput test_epics:AMCc:FpgaTopLevel:AppTop:DaqMuxV2[0]:TriggerDaq 1\n"
     ]
    }
   ],
   "source": [
    "adc = S.read_adc_data(2, 2**19)"
   ]
  },
  {
   "cell_type": "code",
   "execution_count": 28,
   "metadata": {},
   "outputs": [],
   "source": [
    "f_psd, adc_psd = signal.welch(adc, fs=614.4e6, nperseg=2**16, return_onesided=False)"
   ]
  },
  {
   "cell_type": "code",
   "execution_count": 29,
   "metadata": {},
   "outputs": [
    {
     "data": {
      "text/plain": [
       "Text(0, 0.5, 'Amplitude (arb)')"
      ]
     },
     "execution_count": 29,
     "metadata": {},
     "output_type": "execute_result"
    },
    {
     "data": {
      "image/png": "[encoded data removed]",
      "text/plain": [
       "<Figure size 432x288 with 1 Axes>"
      ]
     },
     "metadata": {
      "needs_background": "light"
     },
     "output_type": "display_data"
    }
   ],
   "source": [
    "plt.semilogy(f_psd * 1e-6, adc_psd)\n",
    "plt.xlabel('Frequency (MHz)')\n",
    "plt.ylabel('Amplitude (arb)')"
   ]
  },
  {
   "cell_type": "markdown",
   "metadata": {},
   "source": [
    "This is a lot messier than the DAC data, but contains a lot of useful information! First, note that I changed the units on the x-axis, so it's now in MHz.\n",
    "\n",
    "We can see the rolloff of the band here at about +/-250MHz. SMuRF defines everything relative to its own band/subband structure, so 0 here means we are looking at the center of the band. For the case of ADC 2, this is the center of the 5-5.5GHz band, so 5.25GHz. We could make a similar plot for band 3, which would have axes that also run from -300 to +300MHz, but the absolute frequency would be centered around 5.75GHz instead. \n",
    "\n",
    "We can compare this to what happens when we turn the tone off:"
   ]
  },
  {
   "cell_type": "code",
   "execution_count": 30,
   "metadata": {},
   "outputs": [],
   "source": [
    "S.config_cryo_channel(2,0,0,0,0,0,0)"
   ]
  },
  {
   "cell_type": "code",
   "execution_count": 31,
   "metadata": {},
   "outputs": [
    {
     "name": "stdout",
     "output_type": "stream",
     "text": [
      "[ 2019-01-31 17:38:50 ]  caput test_epics:AMCc:FpgaTopLevel:AppTop:DaqMuxV2[0]:TriggerDaq 1\n"
     ]
    },
    {
     "data": {
      "text/plain": [
       "Text(0, 0.5, 'Amplitude (arb)')"
      ]
     },
     "execution_count": 31,
     "metadata": {},
     "output_type": "execute_result"
    },
    {
     "data": {
      "image/png": "[encoded data removed]",
      "text/plain": [
       "<Figure size 432x288 with 1 Axes>"
      ]
     },
     "metadata": {
      "needs_background": "light"
     },
     "output_type": "display_data"
    }
   ],
   "source": [
    "adc2 = S.read_adc_data(2,2**19)\n",
    "f_psd, adc2_psd = signal.welch(adc2, fs=614.4e6, nperseg=2**16, return_onesided=False)\n",
    "plt.semilogy(f_psd*1e-6, adc2_psd)\n",
    "plt.xlabel('Frequency (MHz)')\n",
    "plt.ylabel('Amplitude (arb)')"
   ]
  },
  {
   "cell_type": "markdown",
   "metadata": {},
   "source": [
    "So the obvious tone in the middle went away! This is approximately what we expect. You can try playing with the cryo channel parameters and seeing how the DAC vs ADC respond."
   ]
  },
  {
   "cell_type": "markdown",
   "metadata": {},
   "source": [
    "### Firmware Structure"
   ]
  },
  {
   "cell_type": "markdown",
   "metadata": {},
   "source": [
    "Bands, subbands, channels lala\n",
    "\n",
    "Don't think I want to get into filter stuff here?"
   ]
  },
  {
   "cell_type": "markdown",
   "metadata": {},
   "source": [
    "The details of the firmware structure are likely beyond the scope of this tutorial, but there are a few small things to know about the SMuRF constraints in order to command channels appropriately.\n",
    "\n",
    "Each _band_ of SMuRF spans 500MHz and can support up to 512 channels, which are 0-indexed. Band 0 is 4-4.5GHz and they count upwards from there. If you are ever unsure, you can check the the center of the band explicitly:"
   ]
  },
  {
   "cell_type": "code",
   "execution_count": 32,
   "metadata": {},
   "outputs": [
    {
     "data": {
      "text/plain": [
       "5750.0"
      ]
     },
     "execution_count": 32,
     "metadata": {},
     "output_type": "execute_result"
    }
   ],
   "source": [
    "S.get_band_center_mhz(3)"
   ]
  },
  {
   "cell_type": "markdown",
   "metadata": {},
   "source": [
    "Each band is further subdivided into 128 _subbands_. The subbands overlap slightly; they are technically about 9.2MHz wide, but have 6MHz of useful bandwidth. These are numbered sequentially in frequency space, so subband 0 is the lowest frequency and subband 127 is the highest frequency. Since the bands technically span 600MHz (as can be seen from the plots above) with some rolloff, we only really need subbands 12-114 or so. "
   ]
  },
  {
   "cell_type": "markdown",
   "metadata": {},
   "source": [
    "The channels are assigned to the subbands in a weird, interleaved way. As discussed above, the channel frequencies are defined as offsets from the subband centers, so in practice this places a constraint on which channels can be associated with a particular frequency. \n",
    "\n",
    "Each subband has 4 channels; given the overlapping subbands it might be possible to use an adjacent subband channel in order to turn on more than 4 channels in a given 6MHz span but this does place a limit on the number of channels that may be tracked if fabrication variation happens to put more than 4 channels into a particular subband. Other than this constraint, we try not to talk about subbands at all."
   ]
  },
  {
   "cell_type": "markdown",
   "metadata": {},
   "source": [
    "There are some useful utilities to convert between frequency, subband, and channel, mostly in <font color=blue>pysmurf/util/</font>."
   ]
  },
  {
   "cell_type": "code",
   "execution_count": 35,
   "metadata": {},
   "outputs": [
    {
     "data": {
      "text/plain": [
       "[0, 32, 64, 96]"
      ]
     },
     "execution_count": 35,
     "metadata": {},
     "output_type": "execute_result"
    }
   ],
   "source": [
    "S.get_channels_in_subband(2,63) # for some reason this needs the band, although it shouldn't matter"
   ]
  },
  {
   "cell_type": "code",
   "execution_count": 36,
   "metadata": {},
   "outputs": [
    {
     "data": {
      "text/plain": [
       "[384,\n",
       " 416,\n",
       " 448,\n",
       " 480,\n",
       " 144,\n",
       " 176,\n",
       " 208,\n",
       " 240,\n",
       " 400,\n",
       " 432,\n",
       " 464,\n",
       " 496,\n",
       " 136,\n",
       " 168,\n",
       " 200,\n",
       " 232,\n",
       " 392,\n",
       " 424,\n",
       " 456,\n",
       " 488,\n",
       " 152,\n",
       " 184,\n",
       " 216,\n",
       " 248,\n",
       " 408,\n",
       " 440,\n",
       " 472,\n",
       " 504,\n",
       " 132,\n",
       " 164,\n",
       " 196,\n",
       " 228,\n",
       " 388,\n",
       " 420,\n",
       " 452,\n",
       " 484,\n",
       " 148,\n",
       " 180,\n",
       " 212,\n",
       " 244,\n",
       " 404,\n",
       " 436,\n",
       " 468,\n",
       " 500,\n",
       " 140,\n",
       " 172,\n",
       " 204,\n",
       " 236,\n",
       " 396,\n",
       " 428,\n",
       " 460,\n",
       " 492,\n",
       " 156,\n",
       " 188,\n",
       " 220,\n",
       " 252,\n",
       " 412,\n",
       " 444,\n",
       " 476,\n",
       " 508,\n",
       " 130,\n",
       " 162,\n",
       " 194,\n",
       " 226,\n",
       " 386,\n",
       " 418,\n",
       " 450,\n",
       " 482,\n",
       " 146,\n",
       " 178,\n",
       " 210,\n",
       " 242,\n",
       " 402,\n",
       " 434,\n",
       " 466,\n",
       " 498,\n",
       " 138,\n",
       " 170,\n",
       " 202,\n",
       " 234,\n",
       " 394,\n",
       " 426,\n",
       " 458,\n",
       " 490,\n",
       " 154,\n",
       " 186,\n",
       " 218,\n",
       " 250,\n",
       " 410,\n",
       " 442,\n",
       " 474,\n",
       " 506,\n",
       " 134,\n",
       " 166,\n",
       " 198,\n",
       " 230,\n",
       " 390,\n",
       " 422,\n",
       " 454,\n",
       " 486,\n",
       " 150,\n",
       " 182,\n",
       " 214,\n",
       " 246,\n",
       " 406,\n",
       " 438,\n",
       " 470,\n",
       " 502,\n",
       " 142,\n",
       " 174,\n",
       " 206,\n",
       " 238,\n",
       " 398,\n",
       " 430,\n",
       " 462,\n",
       " 494,\n",
       " 158,\n",
       " 190,\n",
       " 222,\n",
       " 254,\n",
       " 414,\n",
       " 446,\n",
       " 478,\n",
       " 510,\n",
       " 129,\n",
       " 161,\n",
       " 193,\n",
       " 225,\n",
       " 385,\n",
       " 417,\n",
       " 449,\n",
       " 481,\n",
       " 145,\n",
       " 177,\n",
       " 209,\n",
       " 241,\n",
       " 401,\n",
       " 433,\n",
       " 465,\n",
       " 497,\n",
       " 137,\n",
       " 169,\n",
       " 201,\n",
       " 233,\n",
       " 393,\n",
       " 425,\n",
       " 457,\n",
       " 489,\n",
       " 153,\n",
       " 185,\n",
       " 217,\n",
       " 249,\n",
       " 409,\n",
       " 441,\n",
       " 473,\n",
       " 505,\n",
       " 133,\n",
       " 165,\n",
       " 197,\n",
       " 229,\n",
       " 389,\n",
       " 421,\n",
       " 453,\n",
       " 485,\n",
       " 149,\n",
       " 181,\n",
       " 213,\n",
       " 245,\n",
       " 405,\n",
       " 437,\n",
       " 469,\n",
       " 501,\n",
       " 141,\n",
       " 173,\n",
       " 205,\n",
       " 237,\n",
       " 397,\n",
       " 429,\n",
       " 461,\n",
       " 493,\n",
       " 157,\n",
       " 189,\n",
       " 221,\n",
       " 253,\n",
       " 413,\n",
       " 445,\n",
       " 477,\n",
       " 509,\n",
       " 131,\n",
       " 163,\n",
       " 195,\n",
       " 227,\n",
       " 387,\n",
       " 419,\n",
       " 451,\n",
       " 483,\n",
       " 147,\n",
       " 179,\n",
       " 211,\n",
       " 243,\n",
       " 403,\n",
       " 435,\n",
       " 467,\n",
       " 499,\n",
       " 139,\n",
       " 171,\n",
       " 203,\n",
       " 235,\n",
       " 395,\n",
       " 427,\n",
       " 459,\n",
       " 491,\n",
       " 155,\n",
       " 187,\n",
       " 219,\n",
       " 251,\n",
       " 411,\n",
       " 443,\n",
       " 475,\n",
       " 507,\n",
       " 135,\n",
       " 167,\n",
       " 199,\n",
       " 231,\n",
       " 391,\n",
       " 423,\n",
       " 455,\n",
       " 487,\n",
       " 151,\n",
       " 183,\n",
       " 215,\n",
       " 247,\n",
       " 407,\n",
       " 439,\n",
       " 471,\n",
       " 503,\n",
       " 143,\n",
       " 175,\n",
       " 207,\n",
       " 239,\n",
       " 399,\n",
       " 431,\n",
       " 463,\n",
       " 495,\n",
       " 159,\n",
       " 191,\n",
       " 223,\n",
       " 255,\n",
       " 415,\n",
       " 447,\n",
       " 479,\n",
       " 511,\n",
       " 0,\n",
       " 32,\n",
       " 64,\n",
       " 96,\n",
       " 256,\n",
       " 288,\n",
       " 320,\n",
       " 352,\n",
       " 16,\n",
       " 48,\n",
       " 80,\n",
       " 112,\n",
       " 272,\n",
       " 304,\n",
       " 336,\n",
       " 368,\n",
       " 8,\n",
       " 40,\n",
       " 72,\n",
       " 104,\n",
       " 264,\n",
       " 296,\n",
       " 328,\n",
       " 360,\n",
       " 24,\n",
       " 56,\n",
       " 88,\n",
       " 120,\n",
       " 280,\n",
       " 312,\n",
       " 344,\n",
       " 376,\n",
       " 4,\n",
       " 36,\n",
       " 68,\n",
       " 100,\n",
       " 260,\n",
       " 292,\n",
       " 324,\n",
       " 356,\n",
       " 20,\n",
       " 52,\n",
       " 84,\n",
       " 116,\n",
       " 276,\n",
       " 308,\n",
       " 340,\n",
       " 372,\n",
       " 12,\n",
       " 44,\n",
       " 76,\n",
       " 108,\n",
       " 268,\n",
       " 300,\n",
       " 332,\n",
       " 364,\n",
       " 28,\n",
       " 60,\n",
       " 92,\n",
       " 124,\n",
       " 284,\n",
       " 316,\n",
       " 348,\n",
       " 380,\n",
       " 2,\n",
       " 34,\n",
       " 66,\n",
       " 98,\n",
       " 258,\n",
       " 290,\n",
       " 322,\n",
       " 354,\n",
       " 18,\n",
       " 50,\n",
       " 82,\n",
       " 114,\n",
       " 274,\n",
       " 306,\n",
       " 338,\n",
       " 370,\n",
       " 10,\n",
       " 42,\n",
       " 74,\n",
       " 106,\n",
       " 266,\n",
       " 298,\n",
       " 330,\n",
       " 362,\n",
       " 26,\n",
       " 58,\n",
       " 90,\n",
       " 122,\n",
       " 282,\n",
       " 314,\n",
       " 346,\n",
       " 378,\n",
       " 6,\n",
       " 38,\n",
       " 70,\n",
       " 102,\n",
       " 262,\n",
       " 294,\n",
       " 326,\n",
       " 358,\n",
       " 22,\n",
       " 54,\n",
       " 86,\n",
       " 118,\n",
       " 278,\n",
       " 310,\n",
       " 342,\n",
       " 374,\n",
       " 14,\n",
       " 46,\n",
       " 78,\n",
       " 110,\n",
       " 270,\n",
       " 302,\n",
       " 334,\n",
       " 366,\n",
       " 30,\n",
       " 62,\n",
       " 94,\n",
       " 126,\n",
       " 286,\n",
       " 318,\n",
       " 350,\n",
       " 382,\n",
       " 1,\n",
       " 33,\n",
       " 65,\n",
       " 97,\n",
       " 257,\n",
       " 289,\n",
       " 321,\n",
       " 353,\n",
       " 17,\n",
       " 49,\n",
       " 81,\n",
       " 113,\n",
       " 273,\n",
       " 305,\n",
       " 337,\n",
       " 369,\n",
       " 9,\n",
       " 41,\n",
       " 73,\n",
       " 105,\n",
       " 265,\n",
       " 297,\n",
       " 329,\n",
       " 361,\n",
       " 25,\n",
       " 57,\n",
       " 89,\n",
       " 121,\n",
       " 281,\n",
       " 313,\n",
       " 345,\n",
       " 377,\n",
       " 5,\n",
       " 37,\n",
       " 69,\n",
       " 101,\n",
       " 261,\n",
       " 293,\n",
       " 325,\n",
       " 357,\n",
       " 21,\n",
       " 53,\n",
       " 85,\n",
       " 117,\n",
       " 277,\n",
       " 309,\n",
       " 341,\n",
       " 373,\n",
       " 13,\n",
       " 45,\n",
       " 77,\n",
       " 109,\n",
       " 269,\n",
       " 301,\n",
       " 333,\n",
       " 365,\n",
       " 29,\n",
       " 61,\n",
       " 93,\n",
       " 125,\n",
       " 285,\n",
       " 317,\n",
       " 349,\n",
       " 381,\n",
       " 3,\n",
       " 35,\n",
       " 67,\n",
       " 99,\n",
       " 259,\n",
       " 291,\n",
       " 323,\n",
       " 355,\n",
       " 19,\n",
       " 51,\n",
       " 83,\n",
       " 115,\n",
       " 275,\n",
       " 307,\n",
       " 339,\n",
       " 371,\n",
       " 11,\n",
       " 43,\n",
       " 75,\n",
       " 107,\n",
       " 267,\n",
       " 299,\n",
       " 331,\n",
       " 363,\n",
       " 27,\n",
       " 59,\n",
       " 91,\n",
       " 123,\n",
       " 283,\n",
       " 315,\n",
       " 347,\n",
       " 379,\n",
       " 7,\n",
       " 39,\n",
       " 71,\n",
       " 103,\n",
       " 263,\n",
       " 195,\n",
       " 327,\n",
       " 359,\n",
       " 23,\n",
       " 55,\n",
       " 87,\n",
       " 119,\n",
       " 279,\n",
       " 311,\n",
       " 343,\n",
       " 375,\n",
       " 15,\n",
       " 47,\n",
       " 79,\n",
       " 111,\n",
       " 271,\n",
       " 303,\n",
       " 335,\n",
       " 367,\n",
       " 31,\n",
       " 63,\n",
       " 95,\n",
       " 127,\n",
       " 287,\n",
       " 319,\n",
       " 351,\n",
       " 383,\n",
       " 128,\n",
       " 160,\n",
       " 192,\n",
       " 224]"
      ]
     },
     "execution_count": 36,
     "metadata": {},
     "output_type": "execute_result"
    }
   ],
   "source": [
    "S.get_channel_order() # in case this was useful"
   ]
  },
  {
   "cell_type": "code",
   "execution_count": 38,
   "metadata": {},
   "outputs": [
    {
     "data": {
      "text/plain": [
       "63"
      ]
     },
     "execution_count": 38,
     "metadata": {},
     "output_type": "execute_result"
    }
   ],
   "source": [
    "S.get_subband_from_channel(2,0) # this also cares about band, for some reason"
   ]
  },
  {
   "cell_type": "code",
   "execution_count": 40,
   "metadata": {},
   "outputs": [],
   "source": [
    "subband_no, center = S.get_subband_centers(2)"
   ]
  },
  {
   "cell_type": "code",
   "execution_count": 41,
   "metadata": {},
   "outputs": [
    {
     "data": {
      "text/plain": [
       "(63, 0.0)"
      ]
     },
     "execution_count": 41,
     "metadata": {},
     "output_type": "execute_result"
    }
   ],
   "source": [
    "subband_no[63], center[63]"
   ]
  },
  {
   "cell_type": "markdown",
   "metadata": {},
   "source": [
    "Note from above that the center is typically given as an offset from the band center. Pass the argument \"as_offset=False\" to get it in absolute terms:"
   ]
  },
  {
   "cell_type": "code",
   "execution_count": 42,
   "metadata": {},
   "outputs": [
    {
     "name": "stdout",
     "output_type": "stream",
     "text": [
      "63 5254.800000190735\n"
     ]
    }
   ],
   "source": [
    "subband_no, center = S.get_subband_centers(2,as_offset=False)\n",
    "print(subband_no[63], center[64])"
   ]
  }
 ],
 "metadata": {
  "kernelspec": {
   "display_name": "Python 3",
   "language": "python",
   "name": "python3"
  },
  "language_info": {
   "codemirror_mode": {
    "name": "ipython",
    "version": 3
   },
   "file_extension": ".py",
   "mimetype": "text/x-python",
   "name": "python",
   "nbconvert_exporter": "python",
   "pygments_lexer": "ipython3",
   "version": "3.6.1"
  }
 },
 "nbformat": 4,
 "nbformat_minor": 2
}
