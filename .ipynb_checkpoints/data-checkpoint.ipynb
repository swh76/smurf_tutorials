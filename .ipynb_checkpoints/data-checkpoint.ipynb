{
 "cells": [
  {
   "cell_type": "markdown",
   "metadata": {},
   "source": [
    "# Installing and using pysmurf on your own machine"
   ]
  },
  {
   "cell_type": "markdown",
   "metadata": {},
   "source": [
    "pysmurf is a public github repo and can be downloaded here - <a href=\"https://github.com/eyyoung24/pysmurf\">https://github.com/eyyoung24/pysmurf</a>.  Fair warning - we're likely to move the repo soon."
   ]
  },
  {
   "cell_type": "markdown",
   "metadata": {},
   "source": [
    "pysmurf requires python3 and the pyepics package.  Installing python3 in Linux is straightforward (if it's not on your machine already).  I'm writing this on a Windows laptop where I have python3 installed via anaconda3 - I have the Python3.6 version installed from here - <a href=\"https://www.anaconda.com/distribution/#download-section\">https://www.anaconda.com/distribution/#download-section</a>. We will be requiring Python 3.7 soon. \n",
    "\n",
    "You should be able to install pyepics using pip - find instructions on that here - <a href=\"http://cars9.uchicago.edu/software/python/pyepics3/installation.html\">http://cars9.uchicago.edu/software/python/pyepics3/installation.html</a>.  The terminal command is;"
   ]
  },
  {
   "cell_type": "raw",
   "metadata": {},
   "source": [
    "pip install pyepics"
   ]
  },
  {
   "cell_type": "markdown",
   "metadata": {},
   "source": [
    "If you're running anaconda on Windows you can just run that command on an anaconda prompt (type \"anaconda prompt\" in the search bar) to install pyepics."
   ]
  },
  {
   "cell_type": "markdown",
   "metadata": {},
   "source": [
    "Last, pysmurf doesn't yet have an installer, so you'll have to either add the directory its in to your PYTHONPATH, or add it in your python session.  Here's an example for how to add it to the path of a running python session (this is horrible, but I have to do it because I don't have admin privileges on my SLAC laptop):"
   ]
  },
  {
   "cell_type": "code",
   "execution_count": 1,
   "metadata": {},
   "outputs": [
    {
     "name": "stdout",
     "output_type": "stream",
     "text": [
      "<module 'pysmurf' from 'C:\\\\Users\\\\shawn\\\\Documents\\\\GitHub\\\\pysmurf\\\\__init__.py'>\n"
     ]
    }
   ],
   "source": [
    "import sys\n",
    "# pysmurf on my machine is in C:\\Users\\shawn\\Documents\\GitHub\\\n",
    "sys.path.append('C:\\\\Users\\\\shawn\\\\Documents\\\\GitHub\\\\')\n",
    "import pysmurf\n",
    "print(pysmurf)"
   ]
  },
  {
   "cell_type": "markdown",
   "metadata": {},
   "source": [
    "If you're not on a SMuRF server, you'll need to instatiate pysmurf with a flag telling it not to try and talk to the EPICs server (and other things).  You'll also need to tell it where the cfg file the data was taken with is (as of right now - we need a better strategy for this).  Here's stupid way to find the path to your pysmurf's config file directory:"
   ]
  },
  {
   "cell_type": "code",
   "execution_count": 2,
   "metadata": {},
   "outputs": [
    {
     "name": "stdout",
     "output_type": "stream",
     "text": [
      "pysmurf_cfg_file_dir=C:\\Users\\shawn\\Documents\\GitHub\\pysmurf\\cfg_files\n",
      "pysmurf_cfg_file_path=C:\\Users\\shawn\\Documents\\GitHub\\pysmurf\\cfg_files\\experiment_fp28_smurfsrv04.cfg\n"
     ]
    },
    {
     "data": {
      "text/plain": [
       "True"
      ]
     },
     "execution_count": 2,
     "metadata": {},
     "output_type": "execute_result"
    }
   ],
   "source": [
    "import os\n",
    "pysmurf_cfg_file_dir=os.path.join(os.path.dirname(pysmurf.__file__),'cfg_files')\n",
    "pysmurf_cfg_file_path=os.path.join(pysmurf_cfg_file_dir,'experiment_fp28_smurfsrv04.cfg')\n",
    "\n",
    "print('pysmurf_cfg_file_dir=%s'%pysmurf_cfg_file_dir)\n",
    "print('pysmurf_cfg_file_path=%s'%pysmurf_cfg_file_path)\n",
    "os.path.exists(pysmurf_cfg_file_path)"
   ]
  },
  {
   "cell_type": "markdown",
   "metadata": {},
   "source": [
    "After running the above, you can instantiate an offline pysmurf instance using that cfg file via"
   ]
  },
  {
   "cell_type": "code",
   "execution_count": 10,
   "metadata": {},
   "outputs": [
    {
     "name": "stdout",
     "output_type": "stream",
     "text": [
      "[ 2019-02-03 18:59:57 ]  Offline mode\n",
      "Warning! Not making output directories!This will break may things!\n"
     ]
    }
   ],
   "source": [
    "S=pysmurf.SmurfControl(offline=True, no_dir=True, epics_root='test_epics', \\\n",
    "                      cfg_file=pysmurf_cfg_file_path)"
   ]
  },
  {
   "cell_type": "markdown",
   "metadata": {},
   "source": [
    "# SMuRF example data in this tutorial"
   ]
  },
  {
   "cell_type": "markdown",
   "metadata": {},
   "source": [
    "This tutorial has some SMuRF data in it for you to try loading on your own machine offline.  Because it's pretty large, it's compressed in git, so if you've just pulled down these tutorials, you'll need to extract the data.  Just extract example_data.tar.gz to example_data/ in the smurf_tutorials directory.  The examples below will assume that's where it is.  On Linux the command to extract the data from the gzip'd tarball is <code>tar xvfz example_data.tar.gz</code>.  After you extract it you should see it from here;"
   ]
  },
  {
   "cell_type": "code",
   "execution_count": 28,
   "metadata": {},
   "outputs": [
    {
     "name": "stdout",
     "output_type": "stream",
     "text": [
      " Volume in drive C has no label.\n",
      " Volume Serial Number is 7A0F-018B\n",
      "\n",
      " Directory of C:\\Users\\shawn\\Documents\\GitHub\\smurf_tutorials\\example_data\n",
      "\n",
      "02/03/2019  07:10 PM    <DIR>          .\n",
      "02/03/2019  07:10 PM    <DIR>          ..\n",
      "02/03/2019  07:10 PM    <DIR>          1548916176\n",
      "02/03/2019  07:10 PM    <DIR>          1549243856\n",
      "               0 File(s)              0 bytes\n",
      "               4 Dir(s)  446,961,405,952 bytes free\n"
     ]
    }
   ],
   "source": [
    "!dir example_data"
   ]
  },
  {
   "cell_type": "markdown",
   "metadata": {},
   "source": [
    "# SMuRF data"
   ]
  },
  {
   "cell_type": "markdown",
   "metadata": {},
   "source": [
    "This tutorial shows how to open and interpret a lot of the most common data structures and files that get saved in routine SMuRF operation.  Almost all data is timestamped with the ctime at which the data was taken.  You can get the current ctime through SMuRF like this; "
   ]
  },
  {
   "cell_type": "markdown",
   "metadata": {},
   "source": [
    "## Time stream data"
   ]
  },
  {
   "cell_type": "markdown",
   "metadata": {},
   "source": [
    "### How the data was taken"
   ]
  },
  {
   "cell_type": "markdown",
   "metadata": {},
   "source": [
    "On smurf-srv04.  For this example, I have 410 resonators locked and tracking all together on bands 2 and 3.  Taking a 60 second time stream:"
   ]
  },
  {
   "cell_type": "code",
   "execution_count": 5,
   "metadata": {},
   "outputs": [
    {
     "name": "stdout",
     "output_type": "stream",
     "text": [
      "[ 2019-01-31 09:50:35 ]  Starting to take data.\n",
      "[ 2019-01-31 09:50:36 ]  Writing PyRogue configuration to file : /data/smurf_data/20190131/1548957035/outputs/1548957036.yml\n",
      "[ 2019-01-31 09:50:47 ]  Writing to file : /data/smurf_data/20190131/1548957035/outputs/1548957036.dat\n",
      "[ 2019-01-31 09:50:50 ]  Band 2\n",
      "[ 2019-01-31 09:50:50 ]  Band 3\n",
      "[ 2019-01-31 09:50:50 ]  Generating gcp mask file. 215 channels added\n",
      "[ 2019-01-31 09:50:50 ]  Reading SMuRF to GCP config file\n",
      "[ 2019-01-31 09:50:50 ]  Reading SMuRF to GCP config file\n",
      "[ 2019-01-31 09:50:51 ]  caput test_epics:AMCc:FpgaTopLevel:AppTop:AppCore:TimingHeader:userConfig[0] 2\n",
      "[ 2019-01-31 09:51:51 ]  caput test_epics:AMCc:FpgaTopLevel:AppTop:AppCore:TimingHeader:userConfig[0] 6\n",
      "[ 2019-01-31 09:51:51 ]  Done taking data.\n"
     ]
    }
   ],
   "source": [
    "# Load pysmurf\n",
    "import pysmurf\n",
    "\n",
    "# Initialize a pysmurf instance connected to the EPICs server named 'test_epics'.  \n",
    "# Do not run setup (assumes setup was run before this script).  Also assumes you're \n",
    "# fully tuned.\n",
    "S = pysmurf.SmurfControl(make_logfile=False, setup=False, epics_root='test_epics', \\\n",
    "                         cfg_file='/usr/local/controls/Applications/smurf/pysmurf/pysmurf/cfg_files/experiment_fp28_smurfsrv04.cfg')\n",
    "\n",
    "# Stream data to file for 60 seconds\n",
    "datadir = S.take_stream_data(meas_time=60)"
   ]
  },
  {
   "cell_type": "markdown",
   "metadata": {},
   "source": [
    "After initializing a pysmurf instance, we streamed data to file for 60 seconds.  This generated three files in /data/smurf_data/20190130/1548916176/outputs/; "
   ]
  },
  {
   "cell_type": "code",
   "execution_count": 6,
   "metadata": {},
   "outputs": [
    {
     "name": "stdout",
     "output_type": "stream",
     "text": [
      "/data/smurf_data/20190130/1548916176/outputs/1548916177.dat\r\n",
      "/data/smurf_data/20190130/1548916176/outputs/1548916177_mask.txt\r\n",
      "/data/smurf_data/20190130/1548916176/outputs/1548916177.yml\r\n"
     ]
    }
   ],
   "source": [
    "ls /data/smurf_data/20190130/1548916176/outputs/1548916177*"
   ]
  },
  {
   "cell_type": "markdown",
   "metadata": {},
   "source": [
    "The .yml file is a record of every PyROGUE register value just before the data was taken.  This allows the configuration of different datasets to be compared register by register:"
   ]
  },
  {
   "cell_type": "code",
   "execution_count": 7,
   "metadata": {},
   "outputs": [
    {
     "name": "stdout",
     "output_type": "stream",
     "text": [
      "AMCc:\r\n",
      "  enable: 'True'\r\n",
      "  ForceWrite: 'False'\r\n",
      "  streamDataWriter:\r\n",
      "    enable: 'True'\r\n",
      "    dataFile: /data/smurf_data/20190130/1548915790/outputs/1548916090.dat\r\n",
      "    open: 'False'\r\n",
      "    bufferSize: '0'\r\n",
      "    maxFileSize: '0'\r\n",
      "  streamingInterface:\r\n",
      "    enable: 'True'\r\n",
      "    dataFile: ''\r\n",
      "    open: 'False'\r\n",
      "    bufferSize: '0'\r\n",
      "    maxFileSize: '0'\r\n",
      "  FpgaTopLevel:\r\n",
      "    enable: 'True'\r\n",
      "    AmcCarrierCore:\r\n",
      "      enable: 'True'\r\n",
      "      AxiVersion:\r\n",
      "        enable: 'True'\r\n",
      "        ScratchPad: '0x000000'\r\n",
      "        FpgaReloadHalt: '0x0'\r\n",
      "        FpgaReloadAddress: '0x0'\r\n",
      "        UserReset: '0x0'\r\n",
      "      AxiSysMonUltraScale:\r\n",
      "        enable: 'True'\r\n",
      "        GIER: '0x0'\r\n",
      "        IPIER: '0x0'\r\n",
      "        Configuration[0]: '0x0'\r\n",
      "        Configuration[1]: '0x21df'\r\n",
      "        Configuration[2]: '0x9b00'\r\n",
      "        Configuration[3]: '0xf'\r\n",
      "        SequenceReg8: '0x0'\r\n",
      "        SequenceReg9: '0x0'\r\n",
      "        SequenceReg_7_0[0]: '0x4f01'\r\n",
      "        SequenceReg_7_0[1]: '0x0'\r\n",
      "        SequenceReg_7_0[2]: '0x4f00'\r\n",
      "        SequenceReg_7_0[3]: '0x0'\r\n",
      "        SequenceReg_7_0[4]: '0x0'\r\n",
      "        SequenceReg_7_0[5]: '0x0'\r\n",
      "        SequenceReg_7_0[6]: '0x0'\r\n",
      "        SequenceReg_7_0[7]: '0x0'\r\n",
      "        AlarmThresholdReg_8_0[0]: '0xb723'\r\n",
      "        AlarmThresholdReg_8_0[1]: '0x4e81'\r\n",
      "        AlarmThresholdReg_8_0[2]: '0xa147'\r\n",
      "        AlarmThresholdReg_8_0[3]: '0xcb93'\r\n",
      "        AlarmThresholdReg_8_0[4]: '0xaa5f'\r\n",
      "        AlarmThresholdReg_8_0[5]: '0x4963'\r\n",
      "        AlarmThresholdReg_8_0[6]: '0x9555'\r\n",
      "        AlarmThresholdReg_8_0[7]: '0xaf7b'\r\n",
      "        AlarmThresholdReg_8_0[8]: '0x4e81'\r\n",
      "        AlarmThresholdReg12: '0x4963'\r\n",
      "        AlarmThresholdReg_25_16[0]: '0x9a74'\r\n",
      "        AlarmThresholdReg_25_16[1]: '0x4da6'\r\n",
      "        AlarmThresholdReg_25_16[2]: '0x9a74'\r\n",
      "        AlarmThresholdReg_25_16[3]: '0x4d39'\r\n",
      "        AlarmThresholdReg_25_16[4]: '0x0'\r\n",
      "        AlarmThresholdReg_25_16[5]: '0x0'\r\n",
      "        AlarmThresholdReg_25_16[6]: '0x0'\r\n",
      "        AlarmThresholdReg_25_16[7]: '0x0'\r\n",
      "      MicronN25Q:\r\n",
      "        enable: 'True'\r\n",
      "        Test: '0x0'\r\n",
      "      AxiSy56040:\r\n",
      "        enable: 'True'\r\n",
      "        OutputConfig[0]: '0x0'\r\n",
      "        OutputConfig[1]: '0x0'\r\n",
      "        OutputConfig[2]: '0x1'\r\n",
      "        OutputConfig[3]: '0x1'\r\n",
      "      AxiCdcm6208:\r\n",
      "        enable: 'True'\r\n",
      "      AmcCarrierBsi:\r\n",
      "        enable: 'True'\r\n",
      "      AmcCarrierTiming:\r\n",
      "        enable: 'True'\r\n",
      "        TimingFrameRx:\r\n",
      "          enable: 'True'\r\n",
      "          RxPolarity: '0x0'\r\n",
      "          ClkSel: '0x1'\r\n",
      "          RxDown: '0x1'\r\n",
      "          BypassRst: '0x0'\r\n",
      "          MsgDelay: '0x0'\r\n",
      "        TPGMiniCore:\r\n",
      "          enable: 'True'\r\n",
      "          TxPolarity: '0x0'\r\n",
      "          TxLoopback: '0x0'\r\n",
      "          TxInhibit: '0x0'\r\n",
      "          BaseControl: '0xc8'\r\n",
      "          PulseIdSet: '0x0'\r\n",
      "          TStampSet: '0x0'\r\n",
      "          FixedRateDiv[0]: '0x1'\r\n",
      "          FixedRateDiv[1]: '0xd'\r\n",
      "          FixedRateDiv[2]: '0x5b'\r\n",
      "          FixedRateDiv[3]: '0x38e'\r\n",
      "          FixedRateDiv[4]: '0x238c'\r\n",
      "          FixedRateDiv[5]: '0x16378'\r\n",
      "          FixedRateDiv[6]: '0xde2b0'\r\n",
      "          FixedRateDiv[7]: '0x0'\r\n",
      "          FixedRateDiv[8]: '0x0'\r\n",
      "          FixedRateDiv[9]: '0x0'\r\n",
      "          Lcls1BsaNumSamples: '0x0'\r\n",
      "          Lcls1BsaRate: 120Hz\r\n",
      "          Lcls1BsaTimeSlot: TS1\r\n",
      "          Lcls1BsaSeverity: INVALID\r\n",
      "          Lcls1BsaEdefSlot: '0x0'\r\n",
      "          Lcls1BsaNumAvgs: '0x0'\r\n",
      "          Lcls1BsaStart: '0x0'\r\n",
      "          BsaActive[0]: '0x0'\r\n",
      "          BsaActive[1]: '0x0'\r\n",
      "          BsaRateSelMode[0]: FixedRate\r\n",
      "          BsaRateSelMode[1]: FixedRate\r\n",
      "          BsaFixedRate[0]: 1MHz\r\n",
      "          BsaFixedRate[1]: 1MHz\r\n",
      "          BsaACRate[0]: 60Hz\r\n",
      "          BsaACRate[1]: 60Hz\r\n",
      "          BsaACTSMask[0]: '0x3f'\r\n",
      "          BsaACTSMask[1]: '0x3f'\r\n",
      "          BsaSequenceSelect[0]: '0x0'\r\n",
      "          BsaSequenceSelect[1]: '0x0'\r\n",
      "          BsaSequenceBitSelect[0]: '0x0'\r\n",
      "          BsaSequenceBitSelect[1]: '0x0'\r\n",
      "          BsaDestMode[0]: Dont_Care\r\n",
      "          BsaDestMode[1]: Dont_Care\r\n",
      "          BsaDestInclusiveMask[0]: '0xffff'\r\n",
      "          BsaDestInclusiveMask[1]: '0xffff'\r\n",
      "          BsaDestExclusiveMask[0]: '0xffff'\r\n",
      "          BsaDestExclusiveMask[1]: '0xffff'\r\n",
      "          BsaNtoAvg[0]: '0x1'\r\n",
      "          BsaNtoAvg[1]: '0x1'\r\n",
      "          BsaAvgToWr[0]: '0x64'\r\n",
      "          BsaAvgToWr[1]: '0x0'\r\n",
      "          BsaMaxSeverity[0]: Invalid\r\n",
      "          BsaMaxSeverity[1]: Invalid\r\n",
      "          CountInterval: '0x488b'\r\n",
      "        GthRxAlignCheck:\r\n",
      "          enable: 'True'\r\n",
      "          PhaseTarget: '0x10'\r\n",
      "          ResetLen: '0x3'\r\n",
      "        EvrV2CoreTriggers:\r\n",
      "          enable: 'True'\r\n",
      "          EvrV2ChannelReg[0]:\r\n",
      "            enable: 'True'\r\n",
      "            Enable: '0x1'\r\n",
      "            BsaEnabled: '0x0'\r\n",
      "            DmaEnabled: '0x0'\r\n",
      "            RateSel: '0x6'\r\n",
      "            DestSel: '0x20000'\r\n",
      "            Count: '0x7b2ea23'\r\n",
      "            BsaWindowDelay: '0x0'\r\n",
      "            BsaWindowSetup: '0x0'\r\n",
      "            BsaWindowWidth: '0x0'\r\n",
      "          EvrV2ChannelReg[1]:\r\n",
      "            enable: 'True'\r\n",
      "            Enable: '0x0'\r\n",
      "            BsaEnabled: '0x0'\r\n",
      "            DmaEnabled: '0x0'\r\n",
      "            RateSel: '0x0'\r\n",
      "            DestSel: '0x0'\r\n",
      "            Count: '0x0'\r\n",
      "            BsaWindowDelay: '0x0'\r\n",
      "            BsaWindowSetup: '0x0'\r\n",
      "            BsaWindowWidth: '0x0'\r\n",
      "          EvrV2ChannelReg[2]:\r\n",
      "            enable: 'True'\r\n",
      "            Enable: '0x0'\r\n",
      "            BsaEnabled: '0x0'\r\n",
      "            DmaEnabled: '0x0'\r\n",
      "            RateSel: '0x0'\r\n",
      "            DestSel: '0x0'\r\n",
      "            Count: '0x0'\r\n",
      "            BsaWindowDelay: '0x0'\r\n",
      "            BsaWindowSetup: '0x0'\r\n",
      "            BsaWindowWidth: '0x0'\r\n",
      "          EvrV2ChannelReg[3]:\r\n",
      "            enable: 'True'\r\n",
      "            Enable: '0x0'\r\n",
      "            BsaEnabled: '0x0'\r\n",
      "            DmaEnabled: '0x0'\r\n",
      "            RateSel: '0x0'\r\n",
      "            DestSel: '0x0'\r\n",
      "            Count: '0x0'\r\n",
      "            BsaWindowDelay: '0x0'\r\n",
      "            BsaWindowSetup: '0x0'\r\n",
      "            BsaWindowWidth: '0x0'\r\n",
      "          EvrV2ChannelReg[4]:\r\n",
      "            enable: 'True'\r\n",
      "            Enable: '0x0'\r\n",
      "            BsaEnabled: '0x0'\r\n",
      "            DmaEnabled: '0x0'\r\n",
      "            RateSel: '0x0'\r\n",
      "            DestSel: '0x0'\r\n",
      "            Count: '0x0'\r\n",
      "            BsaWindowDelay: '0x0'\r\n",
      "            BsaWindowSetup: '0x0'\r\n",
      "            BsaWindowWidth: '0x0'\r\n",
      "          EvrV2ChannelReg[5]:\r\n",
      "            enable: 'True'\r\n",
      "            Enable: '0x0'\r\n",
      "            BsaEnabled: '0x0'\r\n"
     ]
    }
   ],
   "source": [
    "!head -n 200 /data/smurf_data/20190130/1548916176/outputs/1548916177.yml\n"
   ]
  },
  {
   "cell_type": "markdown",
   "metadata": {},
   "source": [
    "Unsurprisingly, it's a ton of info.  Just showing the first 200 lines above."
   ]
  },
  {
   "cell_type": "markdown",
   "metadata": {},
   "source": [
    "The *_mask.txt file is a record of which SMuRF channels were assigned to what array indices in the SMuRF .dat file."
   ]
  },
  {
   "cell_type": "code",
   "execution_count": 8,
   "metadata": {},
   "outputs": [
    {
     "name": "stdout",
     "output_type": "stream",
     "text": [
      "     0\t1024\r\n",
      "     1\t1025\r\n",
      "     2\t1026\r\n",
      "     3\t1027\r\n",
      "     4\t1028\r\n",
      "     5\t1029\r\n",
      "     6\t1030\r\n",
      "     7\t1032\r\n",
      "     8\t1033\r\n",
      "     9\t1034\r\n",
      "    10\t1036\r\n",
      "    11\t1037\r\n",
      "    12\t1040\r\n",
      "    13\t1041\r\n",
      "    14\t1042\r\n",
      "    15\t1043\r\n",
      "    16\t1044\r\n",
      "    17\t1045\r\n",
      "    18\t1046\r\n",
      "    19\t1048\r\n",
      "    20\t1049\r\n",
      "    21\t1052\r\n",
      "    22\t1054\r\n",
      "    23\t1056\r\n",
      "    24\t1057\r\n",
      "    25\t1058\r\n",
      "    26\t1059\r\n",
      "    27\t1060\r\n",
      "    28\t1062\r\n",
      "    29\t1064\r\n",
      "    30\t1065\r\n",
      "    31\t1066\r\n",
      "    32\t1068\r\n",
      "    33\t1069\r\n",
      "    34\t1070\r\n",
      "    35\t1072\r\n",
      "    36\t1074\r\n",
      "    37\t1075\r\n",
      "    38\t1076\r\n",
      "    39\t1077\r\n",
      "    40\t1078\r\n",
      "    41\t1080\r\n",
      "    42\t1081\r\n",
      "    43\t1084\r\n",
      "    44\t1086\r\n",
      "    45\t1088\r\n",
      "    46\t1089\r\n",
      "    47\t1090\r\n",
      "    48\t1091\r\n",
      "    49\t1094\r\n",
      "    50\t1097\r\n",
      "    51\t1098\r\n",
      "    52\t1100\r\n",
      "    53\t1101\r\n",
      "    54\t1102\r\n",
      "    55\t1104\r\n",
      "    56\t1106\r\n",
      "    57\t1107\r\n",
      "    58\t1109\r\n",
      "    59\t1112\r\n",
      "    60\t1113\r\n",
      "    61\t1118\r\n",
      "    62\t1120\r\n",
      "    63\t1139\r\n",
      "    64\t1150\r\n",
      "    65\t1153\r\n",
      "    66\t1154\r\n",
      "    67\t1157\r\n",
      "    68\t1159\r\n",
      "    69\t1161\r\n",
      "    70\t1162\r\n",
      "    71\t1163\r\n",
      "    72\t1165\r\n",
      "    73\t1167\r\n",
      "    74\t1169\r\n",
      "    75\t1170\r\n",
      "    76\t1171\r\n",
      "    77\t1173\r\n",
      "    78\t1174\r\n",
      "    79\t1175\r\n",
      "    80\t1177\r\n",
      "    81\t1178\r\n",
      "    82\t1179\r\n",
      "    83\t1180\r\n",
      "    84\t1181\r\n",
      "    85\t1182\r\n",
      "    86\t1183\r\n",
      "    87\t1185\r\n",
      "    88\t1186\r\n",
      "    89\t1189\r\n",
      "    90\t1191\r\n",
      "    91\t1194\r\n",
      "    92\t1195\r\n",
      "    93\t1197\r\n",
      "    94\t1199\r\n",
      "    95\t1201\r\n",
      "    96\t1203\r\n",
      "    97\t1205\r\n",
      "    98\t1206\r\n",
      "    99\t1207\r\n",
      "   100\t1209\r\n",
      "   101\t1210\r\n",
      "   102\t1211\r\n",
      "   103\t1212\r\n",
      "   104\t1213\r\n",
      "   105\t1218\r\n",
      "   106\t1221\r\n",
      "   107\t1226\r\n",
      "   108\t1227\r\n",
      "   109\t1229\r\n",
      "   110\t1233\r\n",
      "   111\t1237\r\n",
      "   112\t1239\r\n",
      "   113\t1241\r\n",
      "   114\t1242\r\n",
      "   115\t1243\r\n",
      "   116\t1244\r\n",
      "   117\t1245\r\n",
      "   118\t1246\r\n",
      "   119\t1250\r\n",
      "   120\t1262\r\n",
      "   121\t1269\r\n",
      "   122\t1274\r\n",
      "   123\t1280\r\n",
      "   124\t1281\r\n",
      "   125\t1282\r\n",
      "   126\t1283\r\n",
      "   127\t1284\r\n",
      "   128\t1285\r\n",
      "   129\t1286\r\n",
      "   130\t1288\r\n",
      "   131\t1289\r\n",
      "   132\t1290\r\n",
      "   133\t1292\r\n",
      "   134\t1293\r\n",
      "   135\t1296\r\n",
      "   136\t1297\r\n",
      "   137\t1298\r\n",
      "   138\t1299\r\n",
      "   139\t1300\r\n",
      "   140\t1301\r\n",
      "   141\t1302\r\n",
      "   142\t1304\r\n",
      "   143\t1305\r\n",
      "   144\t1306\r\n",
      "   145\t1308\r\n",
      "   146\t1310\r\n",
      "   147\t1312\r\n",
      "   148\t1313\r\n",
      "   149\t1314\r\n",
      "   150\t1315\r\n",
      "   151\t1316\r\n",
      "   152\t1317\r\n",
      "   153\t1318\r\n",
      "   154\t1320\r\n",
      "   155\t1321\r\n",
      "   156\t1322\r\n",
      "   157\t1324\r\n",
      "   158\t1326\r\n",
      "   159\t1328\r\n",
      "   160\t1329\r\n",
      "   161\t1330\r\n",
      "   162\t1331\r\n",
      "   163\t1332\r\n",
      "   164\t1333\r\n",
      "   165\t1334\r\n",
      "   166\t1336\r\n",
      "   167\t1337\r\n",
      "   168\t1338\r\n",
      "   169\t1340\r\n",
      "   170\t1341\r\n",
      "   171\t1342\r\n",
      "   172\t1345\r\n",
      "   173\t1347\r\n",
      "   174\t1349\r\n",
      "   175\t1350\r\n",
      "   176\t1352\r\n",
      "   177\t1353\r\n",
      "   178\t1356\r\n",
      "   179\t1360\r\n",
      "   180\t1361\r\n",
      "   181\t1362\r\n",
      "   182\t1363\r\n",
      "   183\t1364\r\n",
      "   184\t1365\r\n",
      "   185\t1366\r\n",
      "   186\t1369\r\n",
      "   187\t1370\r\n",
      "   188\t1373\r\n",
      "   189\t1381\r\n",
      "   190\t1392\r\n",
      "   191\t1402\r\n",
      "   192\t1409\r\n",
      "   193\t1410\r\n",
      "   194\t1413\r\n",
      "   195\t1414\r\n",
      "   196\t1415\r\n",
      "   197\t1417\r\n",
      "   198\t1418\r\n",
      "   199\t1419\r\n",
      "   200\t1421\r\n",
      "   201\t1422\r\n",
      "   202\t1423\r\n",
      "   203\t1425\r\n",
      "   204\t1426\r\n",
      "   205\t1427\r\n",
      "   206\t1429\r\n",
      "   207\t1430\r\n",
      "   208\t1431\r\n",
      "   209\t1433\r\n",
      "   210\t1434\r\n",
      "   211\t1436\r\n",
      "   212\t1437\r\n",
      "   213\t1438\r\n",
      "   214\t1439\r\n",
      "   215\t1441\r\n",
      "   216\t1442\r\n",
      "   217\t1445\r\n",
      "   218\t1446\r\n",
      "   219\t1447\r\n",
      "   220\t1449\r\n",
      "   221\t1450\r\n",
      "   222\t1451\r\n",
      "   223\t1453\r\n",
      "   224\t1454\r\n",
      "   225\t1457\r\n",
      "   226\t1458\r\n",
      "   227\t1459\r\n",
      "   228\t1461\r\n",
      "   229\t1462\r\n",
      "   230\t1463\r\n",
      "   231\t1465\r\n",
      "   232\t1466\r\n",
      "   233\t1468\r\n",
      "   234\t1469\r\n",
      "   235\t1470\r\n",
      "   236\t1471\r\n",
      "   237\t1473\r\n",
      "   238\t1474\r\n",
      "   239\t1479\r\n",
      "   240\t1482\r\n",
      "   241\t1483\r\n",
      "   242\t1486\r\n",
      "   243\t1489\r\n",
      "   244\t1490\r\n",
      "   245\t1494\r\n",
      "   246\t1497\r\n",
      "   247\t1498\r\n",
      "   248\t1499\r\n",
      "   249\t1500\r\n",
      "   250\t1501\r\n",
      "   251\t1502\r\n",
      "   252\t1531\r\n",
      "   253\t1534\r\n",
      "   254\t1536\r\n",
      "   255\t1537\r\n",
      "   256\t1538\r\n",
      "   257\t1542\r\n",
      "   258\t1544\r\n",
      "   259\t1548\r\n",
      "   260\t1550\r\n",
      "   261\t1552\r\n",
      "   262\t1554\r\n",
      "   263\t1556\r\n",
      "   264\t1558\r\n",
      "   265\t1562\r\n",
      "   266\t1566\r\n",
      "   267\t1568\r\n",
      "   268\t1574\r\n",
      "   269\t1576\r\n",
      "   270\t1580\r\n",
      "   271\t1584\r\n",
      "   272\t1586\r\n",
      "   273\t1588\r\n",
      "   274\t1590\r\n",
      "   275\t1594\r\n",
      "   276\t1596\r\n",
      "   277\t1598\r\n",
      "   278\t1600\r\n",
      "   279\t1602\r\n",
      "   280\t1606\r\n",
      "   281\t1614\r\n",
      "   282\t1616\r\n",
      "   283\t1620\r\n",
      "   284\t1622\r\n",
      "   285\t1630\r\n",
      "   286\t1632\r\n",
      "   287\t1638\r\n",
      "   288\t1646\r\n",
      "   289\t1662\r\n",
      "   290\t1665\r\n",
      "   291\t1666\r\n",
      "   292\t1667\r\n",
      "   293\t1669\r\n",
      "   294\t1671\r\n",
      "   295\t1673\r\n",
      "   296\t1675\r\n",
      "   297\t1677\r\n",
      "   298\t1679\r\n",
      "   299\t1685\r\n",
      "   300\t1689\r\n",
      "   301\t1691\r\n",
      "   302\t1692\r\n",
      "   303\t1693\r\n",
      "   304\t1694\r\n",
      "   305\t1695\r\n",
      "   306\t1697\r\n",
      "   307\t1698\r\n",
      "   308\t1701\r\n",
      "   309\t1703\r\n",
      "   310\t1705\r\n",
      "   311\t1707\r\n",
      "   312\t1709\r\n",
      "   313\t1711\r\n",
      "   314\t1713\r\n",
      "   315\t1715\r\n",
      "   316\t1721\r\n",
      "   317\t1723\r\n",
      "   318\t1724\r\n",
      "   319\t1725\r\n",
      "   320\t1727\r\n",
      "   321\t1730\r\n",
      "   322\t1731\r\n",
      "   323\t1735\r\n",
      "   324\t1737\r\n",
      "   325\t1739\r\n",
      "   326\t1743\r\n",
      "   327\t1745\r\n",
      "   328\t1747\r\n",
      "   329\t1753\r\n",
      "   330\t1755\r\n",
      "   331\t1757\r\n",
      "   332\t1759\r\n",
      "   333\t1763\r\n",
      "   334\t1767\r\n",
      "   335\t1771\r\n",
      "   336\t1777\r\n",
      "   337\t1779\r\n",
      "   338\t1785\r\n",
      "   339\t1792\r\n",
      "   340\t1794\r\n",
      "   341\t1798\r\n",
      "   342\t1804\r\n",
      "   343\t1806\r\n",
      "   344\t1808\r\n",
      "   345\t1812\r\n",
      "   346\t1814\r\n",
      "   347\t1818\r\n",
      "   348\t1820\r\n",
      "   349\t1822\r\n",
      "   350\t1824\r\n",
      "   351\t1830\r\n",
      "   352\t1836\r\n",
      "   353\t1838\r\n",
      "   354\t1840\r\n",
      "   355\t1842\r\n",
      "   356\t1844\r\n",
      "   357\t1852\r\n",
      "   358\t1854\r\n",
      "   359\t1858\r\n",
      "   360\t1862\r\n",
      "   361\t1868\r\n",
      "   362\t1870\r\n",
      "   363\t1872\r\n",
      "   364\t1874\r\n",
      "   365\t1876\r\n",
      "   366\t1882\r\n",
      "   367\t1886\r\n",
      "   368\t1900\r\n",
      "   369\t1904\r\n",
      "   370\t1918\r\n",
      "   371\t1921\r\n",
      "   372\t1923\r\n",
      "   373\t1929\r\n",
      "   374\t1931\r\n",
      "   375\t1933\r\n",
      "   376\t1934\r\n",
      "   377\t1935\r\n",
      "   378\t1937\r\n",
      "   379\t1941\r\n",
      "   380\t1943\r\n",
      "   381\t1945\r\n",
      "   382\t1947\r\n",
      "   383\t1950\r\n",
      "   384\t1951\r\n",
      "   385\t1953\r\n",
      "   386\t1963\r\n",
      "   387\t1965\r\n",
      "   388\t1967\r\n",
      "   389\t1969\r\n",
      "   390\t1971\r\n",
      "   391\t1975\r\n",
      "   392\t1977\r\n",
      "   393\t1979\r\n",
      "   394\t1980\r\n",
      "   395\t1982\r\n",
      "   396\t1985\r\n",
      "   397\t1987\r\n",
      "   398\t1995\r\n",
      "   399\t1997\r\n",
      "   400\t1999\r\n",
      "   401\t2001\r\n",
      "   402\t2009\r\n",
      "   403\t2011\r\n",
      "   404\t2012\r\n",
      "   405\t2013\r\n",
      "   406\t2015\r\n",
      "   407\t2017\r\n",
      "   408\t2019\r\n",
      "   409\t2045\r\n"
     ]
    }
   ],
   "source": [
    "!nl -v0 /data/smurf_data/20190130/1548916176/outputs/1548916177_mask.txt"
   ]
  },
  {
   "cell_type": "markdown",
   "metadata": {},
   "source": [
    "Here I've just printed the contents of the mask file with a line number, indexed from zero.  For the existing SMuRF stream transmitter, we can only write 512 channels to file simultaneously.  Each SMuRF 500 MHz band has 512 \"CryoChannel\" instances, each of which can be configured to track a resonator (otherwise it's just not used).  This mask file encodes the mapping from those channels onto the 512 we're able to save (right now - this will be expanded for SO).  The actual master mask used by the data writer lives somewhere else, but a copy is saved with each dataset so that the mapping is not lost when/if the master changes.  The master mask file lives in the transmitter directory here - /usr/local/controls/Applications/smurf/smurf2mce/master/mcetransmit/mask.txt.  pysmurf knows how to modify it as needed to write the channels you have configured to file - but you have to have a copy of the mask to figure out how to back out which channel ended up at what index in the array saved on disk."
   ]
  },
  {
   "cell_type": "markdown",
   "metadata": {},
   "source": [
    "Lastly, the .dat file is data."
   ]
  },
  {
   "cell_type": "markdown",
   "metadata": {},
   "source": [
    "### Loading and plotting timestream data"
   ]
  },
  {
   "cell_type": "markdown",
   "metadata": {},
   "source": [
    "Now we will load the data. The data and mask are assumed to have the same file name, so we will only pass it the datafile. It returns time, data, and the mask.  I'm running this example using SMuRF on my personal machine on the example data directory in these tutorials (see section above for how to unpack the data so you can load it here):"
   ]
  },
  {
   "cell_type": "code",
   "execution_count": 29,
   "metadata": {},
   "outputs": [
    {
     "name": "stdout",
     "output_type": "stream",
     "text": [
      "[ 2019-02-03 19:27:48 ]  Treating data as GCP file\n",
      "[ 2019-02-03 19:27:48 ]  Reading example_data\\1548916176\\outputs\\1548916177.dat\n"
     ]
    }
   ],
   "source": [
    "t, dat, mask = S.read_stream_data('example_data\\\\1548916176\\\\outputs\\\\1548916177.dat')"
   ]
  },
  {
   "cell_type": "markdown",
   "metadata": {},
   "source": [
    "The mask is shape (n_band, n_channel) and is -1 for all unassigned channels and is the array index for the assigned channels. So if mask[2,15] = 4, then band 2 channel 15 is the 4th element (0 indexed) in the datafile."
   ]
  },
  {
   "cell_type": "code",
   "execution_count": 30,
   "metadata": {},
   "outputs": [
    {
     "data": {
      "text/plain": [
       "(4, 512)"
      ]
     },
     "execution_count": 30,
     "metadata": {},
     "output_type": "execute_result"
    }
   ],
   "source": [
    "import numpy as np\n",
    "np.shape(mask)"
   ]
  },
  {
   "cell_type": "code",
   "execution_count": 31,
   "metadata": {},
   "outputs": [
    {
     "name": "stdout",
     "output_type": "stream",
     "text": [
      "[2 2 2 2 2 2 2 2 2 2 2 2 2 2 2 2 2 2 2 2 2 2 2 2 2 2 2 2 2 2 2 2 2 2 2 2 2\n",
      " 2 2 2 2 2 2 2 2 2 2 2 2 2 2 2 2 2 2 2 2 2 2 2 2 2 2 2 2 2 2 2 2 2 2 2 2 2\n",
      " 2 2 2 2 2 2 2 2 2 2 2 2 2 2 2 2 2 2 2 2 2 2 2 2 2 2 2 2 2 2 2 2 2 2 2 2 2\n",
      " 2 2 2 2 2 2 2 2 2 2 2 2 2 2 2 2 2 2 2 2 2 2 2 2 2 2 2 2 2 2 2 2 2 2 2 2 2\n",
      " 2 2 2 2 2 2 2 2 2 2 2 2 2 2 2 2 2 2 2 2 2 2 2 2 2 2 2 2 2 2 2 2 2 2 2 2 2\n",
      " 2 2 2 2 2 2 2 2 2 2 2 2 2 2 2 2 2 2 2 2 2 2 2 2 2 2 2 2 2 2 2 2 2 2 2 2 2\n",
      " 2 2 2 2 2 2 2 2 2 2 2 2 2 2 2 2 2 2 2 2 2 2 2 2 2 2 2 2 2 2 2 2 3 3 3 3 3\n",
      " 3 3 3 3 3 3 3 3 3 3 3 3 3 3 3 3 3 3 3 3 3 3 3 3 3 3 3 3 3 3 3 3 3 3 3 3 3\n",
      " 3 3 3 3 3 3 3 3 3 3 3 3 3 3 3 3 3 3 3 3 3 3 3 3 3 3 3 3 3 3 3 3 3 3 3 3 3\n",
      " 3 3 3 3 3 3 3 3 3 3 3 3 3 3 3 3 3 3 3 3 3 3 3 3 3 3 3 3 3 3 3 3 3 3 3 3 3\n",
      " 3 3 3 3 3 3 3 3 3 3 3 3 3 3 3 3 3 3 3 3 3 3 3 3 3 3 3 3 3 3 3 3 3 3 3 3 3\n",
      " 3 3 3]\n",
      "[  0   1   2   3   4   5   6   8   9  10  12  13  16  17  18  19  20  21\n",
      "  22  24  25  28  30  32  33  34  35  36  38  40  41  42  44  45  46  48\n",
      "  50  51  52  53  54  56  57  60  62  64  65  66  67  70  73  74  76  77\n",
      "  78  80  82  83  85  88  89  94  96 115 126 129 130 133 135 137 138 139\n",
      " 141 143 145 146 147 149 150 151 153 154 155 156 157 158 159 161 162 165\n",
      " 167 170 171 173 175 177 179 181 182 183 185 186 187 188 189 194 197 202\n",
      " 203 205 209 213 215 217 218 219 220 221 222 226 238 245 250 256 257 258\n",
      " 259 260 261 262 264 265 266 268 269 272 273 274 275 276 277 278 280 281\n",
      " 282 284 286 288 289 290 291 292 293 294 296 297 298 300 302 304 305 306\n",
      " 307 308 309 310 312 313 314 316 317 318 321 323 325 326 328 329 332 336\n",
      " 337 338 339 340 341 342 345 346 349 357 368 378 385 386 389 390 391 393\n",
      " 394 395 397 398 399 401 402 403 405 406 407 409 410 412 413 414 415 417\n",
      " 418 421 422 423 425 426 427 429 430 433 434 435 437 438 439 441 442 444\n",
      " 445 446 447 449 450 455 458 459 462 465 466 470 473 474 475 476 477 478\n",
      " 507 510   0   1   2   6   8  12  14  16  18  20  22  26  30  32  38  40\n",
      "  44  48  50  52  54  58  60  62  64  66  70  78  80  84  86  94  96 102\n",
      " 110 126 129 130 131 133 135 137 139 141 143 149 153 155 156 157 158 159\n",
      " 161 162 165 167 169 171 173 175 177 179 185 187 188 189 191 194 195 199\n",
      " 201 203 207 209 211 217 219 221 223 227 231 235 241 243 249 256 258 262\n",
      " 268 270 272 276 278 282 284 286 288 294 300 302 304 306 308 316 318 322\n",
      " 326 332 334 336 338 340 346 350 364 368 382 385 387 393 395 397 398 399\n",
      " 401 405 407 409 411 414 415 417 427 429 431 433 435 439 441 443 444 446\n",
      " 449 451 459 461 463 465 473 475 476 477 479 481 483 509]\n"
     ]
    }
   ],
   "source": [
    "band, channel = np.where(mask != -1)\n",
    "print(band)\n",
    "print(channel)"
   ]
  },
  {
   "cell_type": "markdown",
   "metadata": {},
   "source": [
    "Let us arbitrarily choose a channel and plot it."
   ]
  },
  {
   "cell_type": "code",
   "execution_count": 32,
   "metadata": {},
   "outputs": [
    {
     "name": "stdout",
     "output_type": "stream",
     "text": [
      "Band 2 Ch 012\n",
      "10\n"
     ]
    }
   ],
   "source": [
    "idx = 10\n",
    "print('Band {} Ch {:03}'.format(band[idx], channel[idx]))\n",
    "print(mask[band[idx],channel[idx]])"
   ]
  },
  {
   "cell_type": "code",
   "execution_count": 47,
   "metadata": {},
   "outputs": [
    {
     "name": "stdout",
     "output_type": "stream",
     "text": [
      "t[0]=1548916190854031799\n"
     ]
    },
    {
     "data": {
      "image/png": "[encoded data removed]",
      "text/plain": [
       "<Figure size 432x288 with 1 Axes>"
      ]
     },
     "metadata": {
      "needs_background": "light"
     },
     "output_type": "display_data"
    }
   ],
   "source": [
    "import matplotlib.pyplot as plt\n",
    "dat_ch=dat[mask[band[idx], channel[idx]]]\n",
    "t_sec=(t-t[0])/1.e9\n",
    "print('t[0]=%d'%(t[0]))\n",
    "plt.plot(t_sec,dat_ch-np.mean(dat_ch))\n",
    "plt.title('Band {} Ch {:03}'.format(band[idx], channel[idx]))\n",
    "plt.ylabel('Phase ($\\Phi_{0}$)')\n",
    "plt.xlabel('Time (sec)')\n",
    "plt.show()"
   ]
  },
  {
   "cell_type": "markdown",
   "metadata": {},
   "source": [
    "The timestamp is in ns since Jan 1, 1970 (<a href=\"https://en.wikipedia.org/wiki/Unix_time\">because it's awesome</a>) and the y axis is in units of the SQUID flux quantum.  To convert the units to equivalent TES current, just multiply by "
   ]
  },
  {
   "cell_type": "code",
   "execution_count": 52,
   "metadata": {},
   "outputs": [
    {
     "name": "stdout",
     "output_type": "stream",
     "text": [
      "1432394.487827 pA/phi0\n"
     ]
    }
   ],
   "source": [
    "print('%f pA/phi0'%(S.pA_per_phi0/(2.*np.pi)))"
   ]
  },
  {
   "cell_type": "markdown",
   "metadata": {},
   "source": [
    "where pA_per_phi0 is in the config file that was loaded when pysmurf was instantiated.  pA_per_phi0 is a function of the coupling (mutual inductance) of the inductor inline with the TES to the SQUID.\n",
    "\n",
    "This data was taken at ~180 Hz (set by the MCE syncbox rate).  Here's"
   ]
  },
  {
   "cell_type": "code",
   "execution_count": 77,
   "metadata": {},
   "outputs": [
    {
     "name": "stdout",
     "output_type": "stream",
     "text": [
      "white noise level = 33.1 pA/rt.Hz\n"
     ]
    },
    {
     "data": {
      "image/png": "[encoded data removed]",
      "text/plain": [
       "<Figure size 432x288 with 1 Axes>"
      ]
     },
     "metadata": {
      "needs_background": "light"
     },
     "output_type": "display_data"
    }
   ],
   "source": [
    "from scipy import signal\n",
    "pA_ch=dat[mask[band[idx], channel[idx]]]*S.pA_per_phi0/(2.*np.pi)\n",
    "f, Pxx = signal.welch(pA_ch, nperseg=2**13, fs=180, detrend='constant')\n",
    "Axx = np.sqrt(Pxx)  # pA\n",
    "plt.plot(f,Axx)\n",
    "\n",
    "plt.title('Band {} Ch {:03}'.format(band[idx], channel[idx]))\n",
    "plt.gca().set_xlabel('Freq [Hz]')\n",
    "plt.gca().set_xlim(f[1],f[-1])\n",
    "plt.gca().set_ylabel('Amp [pA/rtHz]')\n",
    "plt.gca().set_yscale('log')\n",
    "plt.gca().set_xscale('log')\n",
    "\n",
    "popt,pcov,f_fit,Pxx_fit = S.analyze_psd(f,Axx)\n",
    "wl,n,f_knee = popt\n",
    "\n",
    "plt.plot(f_fit,Pxx_fit,linestyle = '--',label=r'$n=%.2f$' % (n))\n",
    "plt.plot(f_knee,2.*wl,linestyle = 'none',marker = 'o',label=r'$f_\\mathrm{knee} = %.2f\\,\\mathrm{Hz}$' % (f_knee))\n",
    "plt.plot(f_fit,wl + np.zeros(len(f_fit)),linestyle = ':',label=r'$\\mathrm{wl} = %.0f\\,\\mathrm{pA}/\\sqrt{\\mathrm{Hz}}$' % (wl))\n",
    "print('white noise level = %0.1f pA/rt.Hz'%(wl))"
   ]
  },
  {
   "cell_type": "markdown",
   "metadata": {},
   "source": [
    "This channel doesn't have any TES on it - this is just SQUID+resonator noise (and dominated by resonator TLS noise).  The large spike on the right is 60Hz."
   ]
  },
  {
   "cell_type": "markdown",
   "metadata": {},
   "source": [
    "## Tracking setup data"
   ]
  },
  {
   "cell_type": "markdown",
   "metadata": {},
   "source": [
    "## IV data "
   ]
  }
 ],
 "metadata": {
  "kernelspec": {
   "display_name": "Python 3",
   "language": "python",
   "name": "python3"
  },
  "language_info": {
   "codemirror_mode": {
    "name": "ipython",
    "version": 3
   },
   "file_extension": ".py",
   "mimetype": "text/x-python",
   "name": "python",
   "nbconvert_exporter": "python",
   "pygments_lexer": "ipython3",
   "version": "3.7.1"
  }
 },
 "nbformat": 4,
 "nbformat_minor": 2
}
