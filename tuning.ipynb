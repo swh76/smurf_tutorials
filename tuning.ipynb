{
 "cells": [
  {
   "cell_type": "markdown",
   "metadata": {},
   "source": [
    "# Tuning"
   ]
  },
  {
   "cell_type": "code",
   "execution_count": 3,
   "metadata": {},
   "outputs": [
    {
     "ename": "ModuleNotFoundError",
     "evalue": "No module named 'pysmurf'",
     "output_type": "error",
     "traceback": [
      "\u001b[0;31m---------------------------------------------------------------------------\u001b[0m",
      "\u001b[0;31mModuleNotFoundError\u001b[0m                       Traceback (most recent call last)",
      "\u001b[0;32m<ipython-input-3-e6f50ff2d705>\u001b[0m in \u001b[0;36m<module>\u001b[0;34m()\u001b[0m\n\u001b[1;32m      1\u001b[0m \u001b[0;32mimport\u001b[0m \u001b[0mnumpy\u001b[0m \u001b[0;32mas\u001b[0m \u001b[0mnp\u001b[0m\u001b[0;34m\u001b[0m\u001b[0m\n\u001b[0;32m----> 2\u001b[0;31m \u001b[0;32mimport\u001b[0m \u001b[0mpysmurf\u001b[0m\u001b[0;34m\u001b[0m\u001b[0m\n\u001b[0m",
      "\u001b[0;31mModuleNotFoundError\u001b[0m: No module named 'pysmurf'"
     ]
    }
   ],
   "source": [
    "import numpy as np\n",
    "import pysmurf\n",
    "\n",
    "S = pysmurf.SmurfControl(cfg_file='')"
   ]
  },
  {
   "cell_type": "markdown",
   "metadata": {},
   "source": [
    "## Coarse Tuning"
   ]
  },
  {
   "cell_type": "markdown",
   "metadata": {},
   "source": [
    "Coarse tuning is a quick search for resonator dips. We generate a known broad band noise signal out of the DAC. We then measure the response in the ADC. The cross correlation between these input and the output has notches where the resonators are. We refer to this process as full_band_resp. Since we know the phase of our input/output data, we have both amplitude and phase information. To do the coarse peak finding manually"
   ]
  },
  {
   "cell_type": "code",
   "execution_count": null,
   "metadata": {},
   "outputs": [],
   "source": [
    "f, resp = S.full_band_resp(2)\n",
    "peaks = S.find_peak(f, resp, make_plot=True, show_plot=True)"
   ]
  },
  {
   "cell_type": "markdown",
   "metadata": {},
   "source": [
    "We take the cross correlation data and look for phase slips and resonator dips. The x's in the top panel show the found resonators. The first command returns the frequency data in Hz and the complex response. The second command finds the peaks. Both functions have optional variables that give more flexibility."
   ]
  },
  {
   "cell_type": "markdown",
   "metadata": {},
   "source": [
    "## Resonator location refinement"
   ]
  },
  {
   "cell_type": "markdown",
   "metadata": {},
   "source": [
    "This coarse search is very good at finding the approximate location of all the resonators. However we need knowledge of the resonator locations in frequency to an accuracy of about 10 kHz. To further refines the peak search, a gradient descent minima search is run. This is run in pyrogue to speed up the process. This takes about 2 minutes for 150 resonators.\n",
    "\n",
    "TODO: ADD THE CODE SNIPPET FOR TUNING!"
   ]
  },
  {
   "cell_type": "code",
   "execution_count": null,
   "metadata": {},
   "outputs": [],
   "source": []
  },
  {
   "cell_type": "markdown",
   "metadata": {},
   "source": [
    "The resonator tracking parameter is referred to as \"eta\". It is a single complex number that gives the phase and width of the resonator. We will begin to discuss things in terms of I and Q, the quadrature decomposition of the signal. I is the in phase component, and Q is the quadrature (90 deg out of phase) component. The eta parameter is designed to rotate the resonator response at the minima into Q."
   ]
  },
  {
   "cell_type": "code",
   "execution_count": null,
   "metadata": {},
   "outputs": [],
   "source": [
    "S.load_tune(last_tune=True)\n",
    "S.plot_tune_summary(2, eta_scan=True, show_plot=False)"
   ]
  },
  {
   "cell_type": "markdown",
   "metadata": {},
   "source": [
    "On the top left is the response: amplitude in color, I in small dashed, and Q in long dashed. Below that is the phase response. Note that the phase is steepest at the minima. This is why we use the gradient of the phase to look for resonator minima. On the right is the resonator response in I and Q. The goal of the eta parameter is to find the complex number that rotates and scales the resonator response so that all changes are along the Q-axis. This allows the tracking algorithm to only monitor Q, which is much faster."
   ]
  },
  {
   "cell_type": "markdown",
   "metadata": {},
   "source": [
    "# Tracking"
   ]
  },
  {
   "cell_type": "markdown",
   "metadata": {},
   "source": [
    "Now that the resonators are rotated into Q-only, the system must track the tones. Input power onto the TES changes the characteristic impedance of the resonator circuit and shifts the resonances up and down in frequency. We monitor this change by coupling the resonators to an RF SQUID.\n",
    "\n",
    "To avoid TLS noise, we shift the signal up in frequency by flux ramping the SQUIDs. SQUIDs have a periodic V-phi curve, so if you pass enough voltage across a SQUID, it will trace out an approximately sinusoidal response.\n",
    "\n",
    "To run setup tracking on band 2\n"
   ]
  },
  {
   "cell_type": "code",
   "execution_count": null,
   "metadata": {},
   "outputs": [],
   "source": [
    "S.tracking_setup(2, make_plot=True)"
   ]
  },
  {
   "cell_type": "markdown",
   "metadata": {},
   "source": [
    "The flux ramp is a triangle wave. In the top panel is the tracked fluxed ramp response of the SQUID. The bottom panel is the residual, or \"tracking error\". The frequency swing in the tracked section is about 100 kHz. Typical tracking errors are below 10 kHz. We use the amplitude of the frequency swing and the standard deviation of the tracking error to turn off bad channels. To check the channels"
   ]
  },
  {
   "cell_type": "code",
   "execution_count": null,
   "metadata": {},
   "outputs": [],
   "source": [
    "S.check_lock(2)"
   ]
  },
  {
   "cell_type": "markdown",
   "metadata": {},
   "source": [
    "And to see the tracking parameters of the remaining resonators after checking lock run tracking_setup again"
   ]
  },
  {
   "cell_type": "code",
   "execution_count": null,
   "metadata": {},
   "outputs": [],
   "source": [
    "S.tracking_setup(2, make_plot=True)"
   ]
  }
 ],
 "metadata": {
  "kernelspec": {
   "display_name": "Python 3",
   "language": "python",
   "name": "python3"
  },
  "language_info": {
   "codemirror_mode": {
    "name": "ipython",
    "version": 3
   },
   "file_extension": ".py",
   "mimetype": "text/x-python",
   "name": "python",
   "nbconvert_exporter": "python",
   "pygments_lexer": "ipython3",
   "version": "3.7.0"
  }
 },
 "nbformat": 4,
 "nbformat_minor": 2
}
